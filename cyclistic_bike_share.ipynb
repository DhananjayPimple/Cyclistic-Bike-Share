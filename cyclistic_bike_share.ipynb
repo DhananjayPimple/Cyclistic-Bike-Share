{
 "cells": [
  {
   "cell_type": "markdown",
   "id": "4060e169",
   "metadata": {},
   "source": [
    "# Preparing Data"
   ]
  },
  {
   "cell_type": "code",
   "execution_count": 1,
   "id": "93af4c16",
   "metadata": {},
   "outputs": [],
   "source": [
    "# Importing all the libraries\n",
    "\n",
    "import pandas as pd\n",
    "import numpy as np\n",
    "import matplotlib.pyplot as plt\n",
    "import seaborn as sns\n",
    "import datetime\n",
    "import os"
   ]
  },
  {
   "cell_type": "code",
   "execution_count": 2,
   "id": "02d04f56",
   "metadata": {},
   "outputs": [],
   "source": [
    "# Creating variables for input and output data locations\n",
    "\n",
    "input_loc =  \"C:/Users/shree/Desktop/Google_Capstone_Project/Cyclistic_Bike_Share/12 moths file/\"\n",
    "\n",
    "output_loc = \"C:/Users/shree/Desktop/Google_Capstone_Project/Cyclistic_Bike_Share/\""
   ]
  },
  {
   "cell_type": "code",
   "execution_count": 3,
   "id": "1008f577",
   "metadata": {},
   "outputs": [
    {
     "data": {
      "text/plain": [
       "['202004-divvy-tripdata.csv',\n",
       " '202005-divvy-tripdata.csv',\n",
       " '202006-divvy-tripdata.csv',\n",
       " '202007-divvy-tripdata.csv',\n",
       " '202008-divvy-tripdata.csv',\n",
       " '202009-divvy-tripdata.csv',\n",
       " '202010-divvy-tripdata.csv',\n",
       " '202011-divvy-tripdata.csv',\n",
       " '202012-divvy-tripdata.csv',\n",
       " '202101-divvy-tripdata.csv',\n",
       " '202102-divvy-tripdata.csv',\n",
       " '202103-divvy-tripdata.csv']"
      ]
     },
     "execution_count": 3,
     "metadata": {},
     "output_type": "execute_result"
    }
   ],
   "source": [
    "# Creating variable for list of input files\n",
    "\n",
    "input_files = os.listdir(input_loc)\n",
    "input_files"
   ]
  },
  {
   "cell_type": "code",
   "execution_count": 4,
   "id": "78f70d75",
   "metadata": {},
   "outputs": [
    {
     "name": "stderr",
     "output_type": "stream",
     "text": [
      "C:\\Users\\shree\\AppData\\Local\\Temp\\ipykernel_11424\\3399156952.py:8: FutureWarning: The frame.append method is deprecated and will be removed from pandas in a future version. Use pandas.concat instead.\n",
      "  final_df = final_df.append(df)\n",
      "C:\\Users\\shree\\AppData\\Local\\Temp\\ipykernel_11424\\3399156952.py:8: FutureWarning: The frame.append method is deprecated and will be removed from pandas in a future version. Use pandas.concat instead.\n",
      "  final_df = final_df.append(df)\n",
      "C:\\Users\\shree\\AppData\\Local\\Temp\\ipykernel_11424\\3399156952.py:8: FutureWarning: The frame.append method is deprecated and will be removed from pandas in a future version. Use pandas.concat instead.\n",
      "  final_df = final_df.append(df)\n",
      "C:\\Users\\shree\\AppData\\Local\\Temp\\ipykernel_11424\\3399156952.py:8: FutureWarning: The frame.append method is deprecated and will be removed from pandas in a future version. Use pandas.concat instead.\n",
      "  final_df = final_df.append(df)\n",
      "C:\\Users\\shree\\AppData\\Local\\Temp\\ipykernel_11424\\3399156952.py:8: FutureWarning: The frame.append method is deprecated and will be removed from pandas in a future version. Use pandas.concat instead.\n",
      "  final_df = final_df.append(df)\n",
      "C:\\Users\\shree\\AppData\\Local\\Temp\\ipykernel_11424\\3399156952.py:8: FutureWarning: The frame.append method is deprecated and will be removed from pandas in a future version. Use pandas.concat instead.\n",
      "  final_df = final_df.append(df)\n",
      "C:\\Users\\shree\\AppData\\Local\\Temp\\ipykernel_11424\\3399156952.py:8: FutureWarning: The frame.append method is deprecated and will be removed from pandas in a future version. Use pandas.concat instead.\n",
      "  final_df = final_df.append(df)\n",
      "C:\\Users\\shree\\AppData\\Local\\Temp\\ipykernel_11424\\3399156952.py:8: FutureWarning: The frame.append method is deprecated and will be removed from pandas in a future version. Use pandas.concat instead.\n",
      "  final_df = final_df.append(df)\n",
      "C:\\Users\\shree\\AppData\\Local\\Temp\\ipykernel_11424\\3399156952.py:8: FutureWarning: The frame.append method is deprecated and will be removed from pandas in a future version. Use pandas.concat instead.\n",
      "  final_df = final_df.append(df)\n",
      "C:\\Users\\shree\\AppData\\Local\\Temp\\ipykernel_11424\\3399156952.py:8: FutureWarning: The frame.append method is deprecated and will be removed from pandas in a future version. Use pandas.concat instead.\n",
      "  final_df = final_df.append(df)\n",
      "C:\\Users\\shree\\AppData\\Local\\Temp\\ipykernel_11424\\3399156952.py:8: FutureWarning: The frame.append method is deprecated and will be removed from pandas in a future version. Use pandas.concat instead.\n",
      "  final_df = final_df.append(df)\n",
      "C:\\Users\\shree\\AppData\\Local\\Temp\\ipykernel_11424\\3399156952.py:8: FutureWarning: The frame.append method is deprecated and will be removed from pandas in a future version. Use pandas.concat instead.\n",
      "  final_df = final_df.append(df)\n"
     ]
    }
   ],
   "source": [
    "# Combining the input files using the loop\n",
    "\n",
    "final_df = pd.DataFrame()\n",
    "    \n",
    "for files in input_files:\n",
    "    if files.endswith(\".csv\"):\n",
    "        df = pd.read_csv(input_loc + files)\n",
    "        final_df = final_df.append(df)\n",
    "        \n",
    "final_df.to_csv(output_loc + \"combined_file.csv\")"
   ]
  },
  {
   "cell_type": "code",
   "execution_count": 5,
   "id": "dfa686b9",
   "metadata": {},
   "outputs": [],
   "source": [
    "# Reading the combined 12 months file\n",
    "\n",
    "combined_df = pd.read_csv(\"C:/Users/shree/Desktop/Google_Capstone_Project/Cyclistic_Bike_Share/combined_file.csv\", engine=\"python\")"
   ]
  },
  {
   "cell_type": "code",
   "execution_count": 6,
   "id": "54366d00",
   "metadata": {},
   "outputs": [
    {
     "data": {
      "text/html": [
       "<div>\n",
       "<style scoped>\n",
       "    .dataframe tbody tr th:only-of-type {\n",
       "        vertical-align: middle;\n",
       "    }\n",
       "\n",
       "    .dataframe tbody tr th {\n",
       "        vertical-align: top;\n",
       "    }\n",
       "\n",
       "    .dataframe thead th {\n",
       "        text-align: right;\n",
       "    }\n",
       "</style>\n",
       "<table border=\"1\" class=\"dataframe\">\n",
       "  <thead>\n",
       "    <tr style=\"text-align: right;\">\n",
       "      <th></th>\n",
       "      <th>Unnamed: 0</th>\n",
       "      <th>ride_id</th>\n",
       "      <th>rideable_type</th>\n",
       "      <th>started_at</th>\n",
       "      <th>ended_at</th>\n",
       "      <th>start_station_name</th>\n",
       "      <th>start_station_id</th>\n",
       "      <th>end_station_name</th>\n",
       "      <th>end_station_id</th>\n",
       "      <th>start_lat</th>\n",
       "      <th>start_lng</th>\n",
       "      <th>end_lat</th>\n",
       "      <th>end_lng</th>\n",
       "      <th>member_casual</th>\n",
       "    </tr>\n",
       "  </thead>\n",
       "  <tbody>\n",
       "    <tr>\n",
       "      <th>0</th>\n",
       "      <td>0</td>\n",
       "      <td>A847FADBBC638E45</td>\n",
       "      <td>docked_bike</td>\n",
       "      <td>26-04-20 17:45</td>\n",
       "      <td>26-04-20 18:12</td>\n",
       "      <td>Eckhart Park</td>\n",
       "      <td>86.0</td>\n",
       "      <td>Lincoln Ave &amp; Diversey Pkwy</td>\n",
       "      <td>152.0</td>\n",
       "      <td>41.896400</td>\n",
       "      <td>-87.661000</td>\n",
       "      <td>41.932200</td>\n",
       "      <td>-87.658600</td>\n",
       "      <td>member</td>\n",
       "    </tr>\n",
       "    <tr>\n",
       "      <th>1</th>\n",
       "      <td>1</td>\n",
       "      <td>5405B80E996FF60D</td>\n",
       "      <td>docked_bike</td>\n",
       "      <td>17-04-20 17:08</td>\n",
       "      <td>17-04-20 17:17</td>\n",
       "      <td>Drake Ave &amp; Fullerton Ave</td>\n",
       "      <td>503.0</td>\n",
       "      <td>Kosciuszko Park</td>\n",
       "      <td>499.0</td>\n",
       "      <td>41.924400</td>\n",
       "      <td>-87.715400</td>\n",
       "      <td>41.930600</td>\n",
       "      <td>-87.723800</td>\n",
       "      <td>member</td>\n",
       "    </tr>\n",
       "    <tr>\n",
       "      <th>2</th>\n",
       "      <td>2</td>\n",
       "      <td>5DD24A79A4E006F4</td>\n",
       "      <td>docked_bike</td>\n",
       "      <td>01-04-20 17:54</td>\n",
       "      <td>01-04-20 18:08</td>\n",
       "      <td>McClurg Ct &amp; Erie St</td>\n",
       "      <td>142.0</td>\n",
       "      <td>Indiana Ave &amp; Roosevelt Rd</td>\n",
       "      <td>255.0</td>\n",
       "      <td>41.894500</td>\n",
       "      <td>-87.617900</td>\n",
       "      <td>41.867900</td>\n",
       "      <td>-87.623000</td>\n",
       "      <td>member</td>\n",
       "    </tr>\n",
       "    <tr>\n",
       "      <th>3</th>\n",
       "      <td>3</td>\n",
       "      <td>2A59BBDF5CDBA725</td>\n",
       "      <td>docked_bike</td>\n",
       "      <td>07-04-20 12:50</td>\n",
       "      <td>07-04-20 13:02</td>\n",
       "      <td>California Ave &amp; Division St</td>\n",
       "      <td>216.0</td>\n",
       "      <td>Wood St &amp; Augusta Blvd</td>\n",
       "      <td>657.0</td>\n",
       "      <td>41.903000</td>\n",
       "      <td>-87.697500</td>\n",
       "      <td>41.899200</td>\n",
       "      <td>-87.672200</td>\n",
       "      <td>member</td>\n",
       "    </tr>\n",
       "    <tr>\n",
       "      <th>4</th>\n",
       "      <td>4</td>\n",
       "      <td>27AD306C119C6158</td>\n",
       "      <td>docked_bike</td>\n",
       "      <td>18-04-20 10:22</td>\n",
       "      <td>18-04-20 11:15</td>\n",
       "      <td>Rush St &amp; Hubbard St</td>\n",
       "      <td>125.0</td>\n",
       "      <td>Sheridan Rd &amp; Lawrence Ave</td>\n",
       "      <td>323.0</td>\n",
       "      <td>41.890200</td>\n",
       "      <td>-87.626200</td>\n",
       "      <td>41.969500</td>\n",
       "      <td>-87.654700</td>\n",
       "      <td>casual</td>\n",
       "    </tr>\n",
       "    <tr>\n",
       "      <th>...</th>\n",
       "      <td>...</td>\n",
       "      <td>...</td>\n",
       "      <td>...</td>\n",
       "      <td>...</td>\n",
       "      <td>...</td>\n",
       "      <td>...</td>\n",
       "      <td>...</td>\n",
       "      <td>...</td>\n",
       "      <td>...</td>\n",
       "      <td>...</td>\n",
       "      <td>...</td>\n",
       "      <td>...</td>\n",
       "      <td>...</td>\n",
       "      <td>...</td>\n",
       "    </tr>\n",
       "    <tr>\n",
       "      <th>3489743</th>\n",
       "      <td>228491</td>\n",
       "      <td>9397BDD14798A1BA</td>\n",
       "      <td>docked_bike</td>\n",
       "      <td>2021-03-20 14:58:56</td>\n",
       "      <td>2021-03-20 17:22:47</td>\n",
       "      <td>Michigan Ave &amp; Oak St</td>\n",
       "      <td>13042</td>\n",
       "      <td>New St &amp; Illinois St</td>\n",
       "      <td>TA1306000013</td>\n",
       "      <td>41.900960</td>\n",
       "      <td>-87.623777</td>\n",
       "      <td>41.890847</td>\n",
       "      <td>-87.618617</td>\n",
       "      <td>casual</td>\n",
       "    </tr>\n",
       "    <tr>\n",
       "      <th>3489744</th>\n",
       "      <td>228492</td>\n",
       "      <td>BBBEB8D51AAD40DA</td>\n",
       "      <td>classic_bike</td>\n",
       "      <td>2021-03-02 11:35:10</td>\n",
       "      <td>2021-03-02 11:43:37</td>\n",
       "      <td>Kingsbury St &amp; Kinzie St</td>\n",
       "      <td>KA1503000043</td>\n",
       "      <td>New St &amp; Illinois St</td>\n",
       "      <td>TA1306000013</td>\n",
       "      <td>41.889177</td>\n",
       "      <td>-87.638506</td>\n",
       "      <td>41.890847</td>\n",
       "      <td>-87.618617</td>\n",
       "      <td>member</td>\n",
       "    </tr>\n",
       "    <tr>\n",
       "      <th>3489745</th>\n",
       "      <td>228493</td>\n",
       "      <td>637FF754DA0BD9E1</td>\n",
       "      <td>classic_bike</td>\n",
       "      <td>2021-03-09 11:07:36</td>\n",
       "      <td>2021-03-09 11:49:11</td>\n",
       "      <td>Michigan Ave &amp; Oak St</td>\n",
       "      <td>13042</td>\n",
       "      <td>Clark St &amp; Berwyn Ave</td>\n",
       "      <td>KA1504000146</td>\n",
       "      <td>41.900960</td>\n",
       "      <td>-87.623777</td>\n",
       "      <td>41.977997</td>\n",
       "      <td>-87.668047</td>\n",
       "      <td>member</td>\n",
       "    </tr>\n",
       "    <tr>\n",
       "      <th>3489746</th>\n",
       "      <td>228494</td>\n",
       "      <td>F8F43A0B978A7A35</td>\n",
       "      <td>classic_bike</td>\n",
       "      <td>2021-03-01 18:11:57</td>\n",
       "      <td>2021-03-01 18:18:37</td>\n",
       "      <td>Kingsbury St &amp; Kinzie St</td>\n",
       "      <td>KA1503000043</td>\n",
       "      <td>New St &amp; Illinois St</td>\n",
       "      <td>TA1306000013</td>\n",
       "      <td>41.889177</td>\n",
       "      <td>-87.638506</td>\n",
       "      <td>41.890847</td>\n",
       "      <td>-87.618617</td>\n",
       "      <td>member</td>\n",
       "    </tr>\n",
       "    <tr>\n",
       "      <th>3489747</th>\n",
       "      <td>228495</td>\n",
       "      <td>3AE64EA5BF43CF72</td>\n",
       "      <td>electric_bike</td>\n",
       "      <td>2021-03-26 17:58:14</td>\n",
       "      <td>2021-03-26 18:06:43</td>\n",
       "      <td>NaN</td>\n",
       "      <td>NaN</td>\n",
       "      <td>New St &amp; Illinois St</td>\n",
       "      <td>TA1306000013</td>\n",
       "      <td>41.880000</td>\n",
       "      <td>-87.630000</td>\n",
       "      <td>41.890818</td>\n",
       "      <td>-87.619540</td>\n",
       "      <td>member</td>\n",
       "    </tr>\n",
       "  </tbody>\n",
       "</table>\n",
       "<p>3489748 rows × 14 columns</p>\n",
       "</div>"
      ],
      "text/plain": [
       "         Unnamed: 0           ride_id  rideable_type           started_at  \\\n",
       "0                 0  A847FADBBC638E45    docked_bike       26-04-20 17:45   \n",
       "1                 1  5405B80E996FF60D    docked_bike       17-04-20 17:08   \n",
       "2                 2  5DD24A79A4E006F4    docked_bike       01-04-20 17:54   \n",
       "3                 3  2A59BBDF5CDBA725    docked_bike       07-04-20 12:50   \n",
       "4                 4  27AD306C119C6158    docked_bike       18-04-20 10:22   \n",
       "...             ...               ...            ...                  ...   \n",
       "3489743      228491  9397BDD14798A1BA    docked_bike  2021-03-20 14:58:56   \n",
       "3489744      228492  BBBEB8D51AAD40DA   classic_bike  2021-03-02 11:35:10   \n",
       "3489745      228493  637FF754DA0BD9E1   classic_bike  2021-03-09 11:07:36   \n",
       "3489746      228494  F8F43A0B978A7A35   classic_bike  2021-03-01 18:11:57   \n",
       "3489747      228495  3AE64EA5BF43CF72  electric_bike  2021-03-26 17:58:14   \n",
       "\n",
       "                    ended_at            start_station_name start_station_id  \\\n",
       "0             26-04-20 18:12                  Eckhart Park             86.0   \n",
       "1             17-04-20 17:17     Drake Ave & Fullerton Ave            503.0   \n",
       "2             01-04-20 18:08          McClurg Ct & Erie St            142.0   \n",
       "3             07-04-20 13:02  California Ave & Division St            216.0   \n",
       "4             18-04-20 11:15          Rush St & Hubbard St            125.0   \n",
       "...                      ...                           ...              ...   \n",
       "3489743  2021-03-20 17:22:47         Michigan Ave & Oak St            13042   \n",
       "3489744  2021-03-02 11:43:37      Kingsbury St & Kinzie St     KA1503000043   \n",
       "3489745  2021-03-09 11:49:11         Michigan Ave & Oak St            13042   \n",
       "3489746  2021-03-01 18:18:37      Kingsbury St & Kinzie St     KA1503000043   \n",
       "3489747  2021-03-26 18:06:43                           NaN              NaN   \n",
       "\n",
       "                    end_station_name end_station_id  start_lat  start_lng  \\\n",
       "0        Lincoln Ave & Diversey Pkwy          152.0  41.896400 -87.661000   \n",
       "1                    Kosciuszko Park          499.0  41.924400 -87.715400   \n",
       "2         Indiana Ave & Roosevelt Rd          255.0  41.894500 -87.617900   \n",
       "3             Wood St & Augusta Blvd          657.0  41.903000 -87.697500   \n",
       "4         Sheridan Rd & Lawrence Ave          323.0  41.890200 -87.626200   \n",
       "...                              ...            ...        ...        ...   \n",
       "3489743         New St & Illinois St   TA1306000013  41.900960 -87.623777   \n",
       "3489744         New St & Illinois St   TA1306000013  41.889177 -87.638506   \n",
       "3489745        Clark St & Berwyn Ave   KA1504000146  41.900960 -87.623777   \n",
       "3489746         New St & Illinois St   TA1306000013  41.889177 -87.638506   \n",
       "3489747         New St & Illinois St   TA1306000013  41.880000 -87.630000   \n",
       "\n",
       "           end_lat    end_lng member_casual  \n",
       "0        41.932200 -87.658600        member  \n",
       "1        41.930600 -87.723800        member  \n",
       "2        41.867900 -87.623000        member  \n",
       "3        41.899200 -87.672200        member  \n",
       "4        41.969500 -87.654700        casual  \n",
       "...            ...        ...           ...  \n",
       "3489743  41.890847 -87.618617        casual  \n",
       "3489744  41.890847 -87.618617        member  \n",
       "3489745  41.977997 -87.668047        member  \n",
       "3489746  41.890847 -87.618617        member  \n",
       "3489747  41.890818 -87.619540        member  \n",
       "\n",
       "[3489748 rows x 14 columns]"
      ]
     },
     "execution_count": 6,
     "metadata": {},
     "output_type": "execute_result"
    }
   ],
   "source": [
    "combined_df"
   ]
  },
  {
   "cell_type": "code",
   "execution_count": 7,
   "id": "977914bf",
   "metadata": {},
   "outputs": [
    {
     "name": "stdout",
     "output_type": "stream",
     "text": [
      "<class 'pandas.core.frame.DataFrame'>\n",
      "RangeIndex: 3489748 entries, 0 to 3489747\n",
      "Data columns (total 14 columns):\n",
      " #   Column              Dtype  \n",
      "---  ------              -----  \n",
      " 0   Unnamed: 0          int64  \n",
      " 1   ride_id             object \n",
      " 2   rideable_type       object \n",
      " 3   started_at          object \n",
      " 4   ended_at            object \n",
      " 5   start_station_name  object \n",
      " 6   start_station_id    object \n",
      " 7   end_station_name    object \n",
      " 8   end_station_id      object \n",
      " 9   start_lat           float64\n",
      " 10  start_lng           float64\n",
      " 11  end_lat             float64\n",
      " 12  end_lng             float64\n",
      " 13  member_casual       object \n",
      "dtypes: float64(4), int64(1), object(9)\n",
      "memory usage: 372.7+ MB\n"
     ]
    }
   ],
   "source": [
    "# Getting information about the dataframe\n",
    "\n",
    "combined_df.info()"
   ]
  },
  {
   "cell_type": "code",
   "execution_count": 8,
   "id": "d45349d8",
   "metadata": {},
   "outputs": [],
   "source": [
    "# Converting the object data type of \"staeted_at\" and \"ended_at\" to datetime data type\n",
    "\n",
    "combined_df['start_at'] = pd.to_datetime(combined_df['started_at'])\n",
    "combined_df['end_at']   = pd.to_datetime(combined_df['ended_at'])"
   ]
  },
  {
   "cell_type": "code",
   "execution_count": 9,
   "id": "3d7e6b95",
   "metadata": {},
   "outputs": [
    {
     "name": "stdout",
     "output_type": "stream",
     "text": [
      "<class 'pandas.core.frame.DataFrame'>\n",
      "RangeIndex: 3489748 entries, 0 to 3489747\n",
      "Data columns (total 16 columns):\n",
      " #   Column              Dtype         \n",
      "---  ------              -----         \n",
      " 0   Unnamed: 0          int64         \n",
      " 1   ride_id             object        \n",
      " 2   rideable_type       object        \n",
      " 3   started_at          object        \n",
      " 4   ended_at            object        \n",
      " 5   start_station_name  object        \n",
      " 6   start_station_id    object        \n",
      " 7   end_station_name    object        \n",
      " 8   end_station_id      object        \n",
      " 9   start_lat           float64       \n",
      " 10  start_lng           float64       \n",
      " 11  end_lat             float64       \n",
      " 12  end_lng             float64       \n",
      " 13  member_casual       object        \n",
      " 14  start_at            datetime64[ns]\n",
      " 15  end_at              datetime64[ns]\n",
      "dtypes: datetime64[ns](2), float64(4), int64(1), object(9)\n",
      "memory usage: 426.0+ MB\n"
     ]
    }
   ],
   "source": [
    "combined_df.info()"
   ]
  },
  {
   "cell_type": "code",
   "execution_count": 10,
   "id": "4ea673a7",
   "metadata": {},
   "outputs": [
    {
     "data": {
      "text/plain": [
       "0         0 days 00:27:00\n",
       "1         0 days 00:09:00\n",
       "2         0 days 00:14:00\n",
       "3         0 days 00:12:00\n",
       "4         0 days 00:53:00\n",
       "                ...      \n",
       "3489743   0 days 02:23:51\n",
       "3489744   0 days 00:08:27\n",
       "3489745   0 days 00:41:35\n",
       "3489746   0 days 00:06:40\n",
       "3489747   0 days 00:08:29\n",
       "Name: ride_length, Length: 3489748, dtype: timedelta64[ns]"
      ]
     },
     "execution_count": 10,
     "metadata": {},
     "output_type": "execute_result"
    }
   ],
   "source": [
    "# Adding a new column >> ride_length (end_at - start_at) to calculate time travelled\n",
    "\n",
    "combined_df['ride_length'] = combined_df['end_at'] - combined_df['start_at']\n",
    "combined_df['ride_length']"
   ]
  },
  {
   "cell_type": "code",
   "execution_count": 11,
   "id": "a8df1574",
   "metadata": {},
   "outputs": [
    {
     "data": {
      "text/plain": [
       "0          2020-04-26\n",
       "1          2020-04-17\n",
       "2          2020-01-04\n",
       "3          2020-07-04\n",
       "4          2020-04-18\n",
       "              ...    \n",
       "3489743    2021-03-20\n",
       "3489744    2021-03-02\n",
       "3489745    2021-03-09\n",
       "3489746    2021-03-01\n",
       "3489747    2021-03-26\n",
       "Name: start_date1, Length: 3489748, dtype: object"
      ]
     },
     "execution_count": 11,
     "metadata": {},
     "output_type": "execute_result"
    }
   ],
   "source": [
    "# Splitting and extracting the date from start\n",
    "\n",
    "combined_df['start_date1'] = pd.to_datetime(combined_df['start_at']).dt.date\n",
    "combined_df['start_date1']"
   ]
  },
  {
   "cell_type": "code",
   "execution_count": 12,
   "id": "a1e4a736",
   "metadata": {},
   "outputs": [
    {
     "name": "stdout",
     "output_type": "stream",
     "text": [
      "<class 'pandas.core.frame.DataFrame'>\n",
      "RangeIndex: 3489748 entries, 0 to 3489747\n",
      "Data columns (total 18 columns):\n",
      " #   Column              Dtype          \n",
      "---  ------              -----          \n",
      " 0   Unnamed: 0          int64          \n",
      " 1   ride_id             object         \n",
      " 2   rideable_type       object         \n",
      " 3   started_at          object         \n",
      " 4   ended_at            object         \n",
      " 5   start_station_name  object         \n",
      " 6   start_station_id    object         \n",
      " 7   end_station_name    object         \n",
      " 8   end_station_id      object         \n",
      " 9   start_lat           float64        \n",
      " 10  start_lng           float64        \n",
      " 11  end_lat             float64        \n",
      " 12  end_lng             float64        \n",
      " 13  member_casual       object         \n",
      " 14  start_at            datetime64[ns] \n",
      " 15  end_at              datetime64[ns] \n",
      " 16  ride_length         timedelta64[ns]\n",
      " 17  start_date1         object         \n",
      "dtypes: datetime64[ns](2), float64(4), int64(1), object(10), timedelta64[ns](1)\n",
      "memory usage: 479.2+ MB\n"
     ]
    }
   ],
   "source": [
    "combined_df.info()"
   ]
  },
  {
   "cell_type": "code",
   "execution_count": 13,
   "id": "4e4c4167",
   "metadata": {},
   "outputs": [
    {
     "name": "stdout",
     "output_type": "stream",
     "text": [
      "<class 'pandas.core.frame.DataFrame'>\n",
      "RangeIndex: 3489748 entries, 0 to 3489747\n",
      "Data columns (total 18 columns):\n",
      " #   Column              Dtype          \n",
      "---  ------              -----          \n",
      " 0   Unnamed: 0          int64          \n",
      " 1   ride_id             object         \n",
      " 2   rideable_type       object         \n",
      " 3   started_at          object         \n",
      " 4   ended_at            object         \n",
      " 5   start_station_name  object         \n",
      " 6   start_station_id    object         \n",
      " 7   end_station_name    object         \n",
      " 8   end_station_id      object         \n",
      " 9   start_lat           float64        \n",
      " 10  start_lng           float64        \n",
      " 11  end_lat             float64        \n",
      " 12  end_lng             float64        \n",
      " 13  member_casual       object         \n",
      " 14  start_at            datetime64[ns] \n",
      " 15  end_at              datetime64[ns] \n",
      " 16  ride_length         timedelta64[ns]\n",
      " 17  start_date1         datetime64[ns] \n",
      "dtypes: datetime64[ns](3), float64(4), int64(1), object(9), timedelta64[ns](1)\n",
      "memory usage: 479.2+ MB\n"
     ]
    }
   ],
   "source": [
    "# Converting data type of \"start_date1\" from object to datetime\n",
    "\n",
    "combined_df['start_date1'] = pd.to_datetime(combined_df['start_date1'])\n",
    "combined_df.info()"
   ]
  },
  {
   "cell_type": "code",
   "execution_count": 14,
   "id": "030f6a55",
   "metadata": {},
   "outputs": [
    {
     "data": {
      "text/plain": [
       "array([6, 4, 5, 3, 1, 2, 0], dtype=int64)"
      ]
     },
     "execution_count": 14,
     "metadata": {},
     "output_type": "execute_result"
    }
   ],
   "source": [
    "# Finding weekday from the date \n",
    "\n",
    "combined_df['day_of_week'] = combined_df['start_date1'].apply(lambda x: x.weekday())\n",
    "combined_df['day_of_week'].unique()"
   ]
  },
  {
   "cell_type": "code",
   "execution_count": 15,
   "id": "f7cfd483",
   "metadata": {},
   "outputs": [
    {
     "data": {
      "text/plain": [
       "0          Saturday\n",
       "1          Thursday\n",
       "2            Friday\n",
       "3            Friday\n",
       "4            Friday\n",
       "             ...   \n",
       "3489743      Friday\n",
       "3489744      Monday\n",
       "3489745      Monday\n",
       "3489746      Sunday\n",
       "3489747    Thursday\n",
       "Name: day_of_week, Length: 3489748, dtype: object"
      ]
     },
     "execution_count": 15,
     "metadata": {},
     "output_type": "execute_result"
    }
   ],
   "source": [
    "# Converting numbers into days\n",
    "\n",
    "dict1 = {0:'Sunday', 1:'Monday', 2:'Tuesday', 3:'Wednesday', 4:'Thursday', 5:'Friday', 6:'Saturday'}\n",
    "\n",
    "combined_df['day_of_week'] = combined_df['day_of_week'].map(dict1)\n",
    "combined_df['day_of_week']"
   ]
  },
  {
   "cell_type": "code",
   "execution_count": 16,
   "id": "68d77f68",
   "metadata": {},
   "outputs": [],
   "source": [
    "# Sorting fata frame by started_at in ascending order\n",
    "\n",
    "combined_df.sort_values(by=['started_at'], inplace = True, ascending = True)"
   ]
  },
  {
   "cell_type": "code",
   "execution_count": 17,
   "id": "2b00c059",
   "metadata": {},
   "outputs": [],
   "source": [
    "# Dropping all the rows if containing any NaN values\n",
    "\n",
    "cleaned_file = combined_df.dropna()"
   ]
  },
  {
   "cell_type": "code",
   "execution_count": 18,
   "id": "c34764da",
   "metadata": {},
   "outputs": [],
   "source": [
    "# Saving cleaned file for further transformation of data\n",
    "\n",
    "cleaned_file.to_csv('cleaned_file.csv')"
   ]
  },
  {
   "cell_type": "code",
   "execution_count": 19,
   "id": "0f9b2530",
   "metadata": {},
   "outputs": [
    {
     "name": "stderr",
     "output_type": "stream",
     "text": [
      "C:\\Users\\shree\\AppData\\Local\\Temp\\ipykernel_11424\\4059382236.py:3: DtypeWarning: Columns (7,9) have mixed types. Specify dtype option on import or set low_memory=False.\n",
      "  cleaned_df = pd.read_csv('cleaned_file.csv')\n"
     ]
    }
   ],
   "source": [
    "# Importing cleaned file \n",
    "\n",
    "cleaned_df = pd.read_csv('cleaned_file.csv')\n"
   ]
  },
  {
   "cell_type": "code",
   "execution_count": 20,
   "id": "89717000",
   "metadata": {},
   "outputs": [
    {
     "data": {
      "text/html": [
       "<div>\n",
       "<style scoped>\n",
       "    .dataframe tbody tr th:only-of-type {\n",
       "        vertical-align: middle;\n",
       "    }\n",
       "\n",
       "    .dataframe tbody tr th {\n",
       "        vertical-align: top;\n",
       "    }\n",
       "\n",
       "    .dataframe thead th {\n",
       "        text-align: right;\n",
       "    }\n",
       "</style>\n",
       "<table border=\"1\" class=\"dataframe\">\n",
       "  <thead>\n",
       "    <tr style=\"text-align: right;\">\n",
       "      <th></th>\n",
       "      <th>Unnamed: 0.1</th>\n",
       "      <th>Unnamed: 0</th>\n",
       "      <th>ride_id</th>\n",
       "      <th>rideable_type</th>\n",
       "      <th>started_at</th>\n",
       "      <th>ended_at</th>\n",
       "      <th>start_station_name</th>\n",
       "      <th>start_station_id</th>\n",
       "      <th>end_station_name</th>\n",
       "      <th>end_station_id</th>\n",
       "      <th>start_lat</th>\n",
       "      <th>start_lng</th>\n",
       "      <th>end_lat</th>\n",
       "      <th>end_lng</th>\n",
       "      <th>member_casual</th>\n",
       "      <th>start_at</th>\n",
       "      <th>end_at</th>\n",
       "      <th>ride_length</th>\n",
       "      <th>start_date1</th>\n",
       "      <th>day_of_week</th>\n",
       "    </tr>\n",
       "  </thead>\n",
       "  <tbody>\n",
       "    <tr>\n",
       "      <th>0</th>\n",
       "      <td>74346</td>\n",
       "      <td>74346</td>\n",
       "      <td>5DB63F4E4EB6A9CF</td>\n",
       "      <td>docked_bike</td>\n",
       "      <td>01-04-20 0:00</td>\n",
       "      <td>01-04-20 0:23</td>\n",
       "      <td>Damen Ave &amp; Wellington Ave</td>\n",
       "      <td>162.0</td>\n",
       "      <td>Pine Grove Ave &amp; Waveland Ave</td>\n",
       "      <td>232.0</td>\n",
       "      <td>41.9359</td>\n",
       "      <td>-87.6784</td>\n",
       "      <td>41.9493</td>\n",
       "      <td>-87.6463</td>\n",
       "      <td>casual</td>\n",
       "      <td>2020-01-04 00:00:00</td>\n",
       "      <td>2020-01-04 00:23:00</td>\n",
       "      <td>0 days 00:23:00</td>\n",
       "      <td>2020-01-04</td>\n",
       "      <td>Friday</td>\n",
       "    </tr>\n",
       "    <tr>\n",
       "      <th>1</th>\n",
       "      <td>17735</td>\n",
       "      <td>17735</td>\n",
       "      <td>6D93A270684EC452</td>\n",
       "      <td>docked_bike</td>\n",
       "      <td>01-04-20 0:02</td>\n",
       "      <td>01-04-20 0:24</td>\n",
       "      <td>Damen Ave &amp; Wellington Ave</td>\n",
       "      <td>162.0</td>\n",
       "      <td>Spaulding Ave &amp; Armitage Ave</td>\n",
       "      <td>506.0</td>\n",
       "      <td>41.9359</td>\n",
       "      <td>-87.6784</td>\n",
       "      <td>41.9171</td>\n",
       "      <td>-87.7102</td>\n",
       "      <td>casual</td>\n",
       "      <td>2020-01-04 00:02:00</td>\n",
       "      <td>2020-01-04 00:24:00</td>\n",
       "      <td>0 days 00:22:00</td>\n",
       "      <td>2020-01-04</td>\n",
       "      <td>Friday</td>\n",
       "    </tr>\n",
       "    <tr>\n",
       "      <th>2</th>\n",
       "      <td>46139</td>\n",
       "      <td>46139</td>\n",
       "      <td>1FD159E93F7BAFA1</td>\n",
       "      <td>docked_bike</td>\n",
       "      <td>01-04-20 0:02</td>\n",
       "      <td>01-04-20 0:10</td>\n",
       "      <td>Wabash Ave &amp; 16th St</td>\n",
       "      <td>72.0</td>\n",
       "      <td>Wabash Ave &amp; 9th St</td>\n",
       "      <td>321.0</td>\n",
       "      <td>41.8604</td>\n",
       "      <td>-87.6258</td>\n",
       "      <td>41.8708</td>\n",
       "      <td>-87.6257</td>\n",
       "      <td>member</td>\n",
       "      <td>2020-01-04 00:02:00</td>\n",
       "      <td>2020-01-04 00:10:00</td>\n",
       "      <td>0 days 00:08:00</td>\n",
       "      <td>2020-01-04</td>\n",
       "      <td>Friday</td>\n",
       "    </tr>\n",
       "    <tr>\n",
       "      <th>3</th>\n",
       "      <td>53075</td>\n",
       "      <td>53075</td>\n",
       "      <td>091D47E4F0FC5022</td>\n",
       "      <td>docked_bike</td>\n",
       "      <td>01-04-20 0:06</td>\n",
       "      <td>01-04-20 0:14</td>\n",
       "      <td>Mies van der Rohe Way &amp; Chicago Ave</td>\n",
       "      <td>173.0</td>\n",
       "      <td>Clark St &amp; Schiller St</td>\n",
       "      <td>301.0</td>\n",
       "      <td>41.8969</td>\n",
       "      <td>-87.6217</td>\n",
       "      <td>41.9080</td>\n",
       "      <td>-87.6315</td>\n",
       "      <td>member</td>\n",
       "      <td>2020-01-04 00:06:00</td>\n",
       "      <td>2020-01-04 00:14:00</td>\n",
       "      <td>0 days 00:08:00</td>\n",
       "      <td>2020-01-04</td>\n",
       "      <td>Friday</td>\n",
       "    </tr>\n",
       "    <tr>\n",
       "      <th>4</th>\n",
       "      <td>46138</td>\n",
       "      <td>46138</td>\n",
       "      <td>07F785C9DDA3404C</td>\n",
       "      <td>docked_bike</td>\n",
       "      <td>01-04-20 0:11</td>\n",
       "      <td>01-04-20 0:11</td>\n",
       "      <td>Wabash Ave &amp; 9th St</td>\n",
       "      <td>321.0</td>\n",
       "      <td>Wabash Ave &amp; 9th St</td>\n",
       "      <td>321.0</td>\n",
       "      <td>41.8708</td>\n",
       "      <td>-87.6257</td>\n",
       "      <td>41.8708</td>\n",
       "      <td>-87.6257</td>\n",
       "      <td>member</td>\n",
       "      <td>2020-01-04 00:11:00</td>\n",
       "      <td>2020-01-04 00:11:00</td>\n",
       "      <td>0 days 00:00:00</td>\n",
       "      <td>2020-01-04</td>\n",
       "      <td>Friday</td>\n",
       "    </tr>\n",
       "    <tr>\n",
       "      <th>...</th>\n",
       "      <td>...</td>\n",
       "      <td>...</td>\n",
       "      <td>...</td>\n",
       "      <td>...</td>\n",
       "      <td>...</td>\n",
       "      <td>...</td>\n",
       "      <td>...</td>\n",
       "      <td>...</td>\n",
       "      <td>...</td>\n",
       "      <td>...</td>\n",
       "      <td>...</td>\n",
       "      <td>...</td>\n",
       "      <td>...</td>\n",
       "      <td>...</td>\n",
       "      <td>...</td>\n",
       "      <td>...</td>\n",
       "      <td>...</td>\n",
       "      <td>...</td>\n",
       "      <td>...</td>\n",
       "      <td>...</td>\n",
       "    </tr>\n",
       "    <tr>\n",
       "      <th>3294686</th>\n",
       "      <td>70007</td>\n",
       "      <td>70007</td>\n",
       "      <td>FF13E71FC8997704</td>\n",
       "      <td>docked_bike</td>\n",
       "      <td>30-04-20 9:57</td>\n",
       "      <td>30-04-20 10:19</td>\n",
       "      <td>Damen Ave &amp; Thomas St (Augusta Blvd)</td>\n",
       "      <td>183.0</td>\n",
       "      <td>Sheffield Ave &amp; Kingsbury St</td>\n",
       "      <td>20.0</td>\n",
       "      <td>41.9013</td>\n",
       "      <td>-87.6774</td>\n",
       "      <td>41.9105</td>\n",
       "      <td>-87.6531</td>\n",
       "      <td>casual</td>\n",
       "      <td>2020-04-30 09:57:00</td>\n",
       "      <td>2020-04-30 10:19:00</td>\n",
       "      <td>0 days 00:22:00</td>\n",
       "      <td>2020-04-30</td>\n",
       "      <td>Wednesday</td>\n",
       "    </tr>\n",
       "    <tr>\n",
       "      <th>3294687</th>\n",
       "      <td>16169</td>\n",
       "      <td>16169</td>\n",
       "      <td>9E3014D72E167A84</td>\n",
       "      <td>docked_bike</td>\n",
       "      <td>30-04-20 9:57</td>\n",
       "      <td>30-04-20 10:04</td>\n",
       "      <td>Noble St &amp; Milwaukee Ave</td>\n",
       "      <td>29.0</td>\n",
       "      <td>Damen Ave &amp; Pierce Ave</td>\n",
       "      <td>69.0</td>\n",
       "      <td>41.9007</td>\n",
       "      <td>-87.6626</td>\n",
       "      <td>41.9094</td>\n",
       "      <td>-87.6777</td>\n",
       "      <td>member</td>\n",
       "      <td>2020-04-30 09:57:00</td>\n",
       "      <td>2020-04-30 10:04:00</td>\n",
       "      <td>0 days 00:07:00</td>\n",
       "      <td>2020-04-30</td>\n",
       "      <td>Wednesday</td>\n",
       "    </tr>\n",
       "    <tr>\n",
       "      <th>3294688</th>\n",
       "      <td>78243</td>\n",
       "      <td>78243</td>\n",
       "      <td>25AC1DC3D7FA9866</td>\n",
       "      <td>docked_bike</td>\n",
       "      <td>30-04-20 9:59</td>\n",
       "      <td>30-04-20 10:27</td>\n",
       "      <td>May St &amp; Cullerton St</td>\n",
       "      <td>171.0</td>\n",
       "      <td>May St &amp; Cullerton St</td>\n",
       "      <td>171.0</td>\n",
       "      <td>41.8551</td>\n",
       "      <td>-87.6541</td>\n",
       "      <td>41.8551</td>\n",
       "      <td>-87.6541</td>\n",
       "      <td>casual</td>\n",
       "      <td>2020-04-30 09:59:00</td>\n",
       "      <td>2020-04-30 10:27:00</td>\n",
       "      <td>0 days 00:28:00</td>\n",
       "      <td>2020-04-30</td>\n",
       "      <td>Wednesday</td>\n",
       "    </tr>\n",
       "    <tr>\n",
       "      <th>3294689</th>\n",
       "      <td>273</td>\n",
       "      <td>273</td>\n",
       "      <td>70963C6718B9E7A7</td>\n",
       "      <td>docked_bike</td>\n",
       "      <td>30-04-20 9:59</td>\n",
       "      <td>30-04-20 10:03</td>\n",
       "      <td>Milwaukee Ave &amp; Grand Ave</td>\n",
       "      <td>84.0</td>\n",
       "      <td>Green St &amp; Randolph St</td>\n",
       "      <td>112.0</td>\n",
       "      <td>41.8916</td>\n",
       "      <td>-87.6484</td>\n",
       "      <td>41.8837</td>\n",
       "      <td>-87.6487</td>\n",
       "      <td>member</td>\n",
       "      <td>2020-04-30 09:59:00</td>\n",
       "      <td>2020-04-30 10:03:00</td>\n",
       "      <td>0 days 00:04:00</td>\n",
       "      <td>2020-04-30</td>\n",
       "      <td>Wednesday</td>\n",
       "    </tr>\n",
       "    <tr>\n",
       "      <th>3294690</th>\n",
       "      <td>55991</td>\n",
       "      <td>55991</td>\n",
       "      <td>863E47DC4D198439</td>\n",
       "      <td>docked_bike</td>\n",
       "      <td>30-04-20 9:59</td>\n",
       "      <td>30-04-20 10:07</td>\n",
       "      <td>Halsted St &amp; Clybourn Ave</td>\n",
       "      <td>331.0</td>\n",
       "      <td>Orleans St &amp; Chestnut St (NEXT Apts)</td>\n",
       "      <td>620.0</td>\n",
       "      <td>41.9097</td>\n",
       "      <td>-87.6481</td>\n",
       "      <td>41.8982</td>\n",
       "      <td>-87.6375</td>\n",
       "      <td>member</td>\n",
       "      <td>2020-04-30 09:59:00</td>\n",
       "      <td>2020-04-30 10:07:00</td>\n",
       "      <td>0 days 00:08:00</td>\n",
       "      <td>2020-04-30</td>\n",
       "      <td>Wednesday</td>\n",
       "    </tr>\n",
       "  </tbody>\n",
       "</table>\n",
       "<p>3294691 rows × 20 columns</p>\n",
       "</div>"
      ],
      "text/plain": [
       "         Unnamed: 0.1  Unnamed: 0           ride_id rideable_type  \\\n",
       "0               74346       74346  5DB63F4E4EB6A9CF   docked_bike   \n",
       "1               17735       17735  6D93A270684EC452   docked_bike   \n",
       "2               46139       46139  1FD159E93F7BAFA1   docked_bike   \n",
       "3               53075       53075  091D47E4F0FC5022   docked_bike   \n",
       "4               46138       46138  07F785C9DDA3404C   docked_bike   \n",
       "...               ...         ...               ...           ...   \n",
       "3294686         70007       70007  FF13E71FC8997704   docked_bike   \n",
       "3294687         16169       16169  9E3014D72E167A84   docked_bike   \n",
       "3294688         78243       78243  25AC1DC3D7FA9866   docked_bike   \n",
       "3294689           273         273  70963C6718B9E7A7   docked_bike   \n",
       "3294690         55991       55991  863E47DC4D198439   docked_bike   \n",
       "\n",
       "            started_at        ended_at                    start_station_name  \\\n",
       "0        01-04-20 0:00   01-04-20 0:23            Damen Ave & Wellington Ave   \n",
       "1        01-04-20 0:02   01-04-20 0:24            Damen Ave & Wellington Ave   \n",
       "2        01-04-20 0:02   01-04-20 0:10                  Wabash Ave & 16th St   \n",
       "3        01-04-20 0:06   01-04-20 0:14   Mies van der Rohe Way & Chicago Ave   \n",
       "4        01-04-20 0:11   01-04-20 0:11                   Wabash Ave & 9th St   \n",
       "...                ...             ...                                   ...   \n",
       "3294686  30-04-20 9:57  30-04-20 10:19  Damen Ave & Thomas St (Augusta Blvd)   \n",
       "3294687  30-04-20 9:57  30-04-20 10:04              Noble St & Milwaukee Ave   \n",
       "3294688  30-04-20 9:59  30-04-20 10:27                 May St & Cullerton St   \n",
       "3294689  30-04-20 9:59  30-04-20 10:03             Milwaukee Ave & Grand Ave   \n",
       "3294690  30-04-20 9:59  30-04-20 10:07             Halsted St & Clybourn Ave   \n",
       "\n",
       "        start_station_id                      end_station_name end_station_id  \\\n",
       "0                  162.0         Pine Grove Ave & Waveland Ave          232.0   \n",
       "1                  162.0          Spaulding Ave & Armitage Ave          506.0   \n",
       "2                   72.0                   Wabash Ave & 9th St          321.0   \n",
       "3                  173.0                Clark St & Schiller St          301.0   \n",
       "4                  321.0                   Wabash Ave & 9th St          321.0   \n",
       "...                  ...                                   ...            ...   \n",
       "3294686            183.0          Sheffield Ave & Kingsbury St           20.0   \n",
       "3294687             29.0                Damen Ave & Pierce Ave           69.0   \n",
       "3294688            171.0                 May St & Cullerton St          171.0   \n",
       "3294689             84.0                Green St & Randolph St          112.0   \n",
       "3294690            331.0  Orleans St & Chestnut St (NEXT Apts)          620.0   \n",
       "\n",
       "         start_lat  start_lng  end_lat  end_lng member_casual  \\\n",
       "0          41.9359   -87.6784  41.9493 -87.6463        casual   \n",
       "1          41.9359   -87.6784  41.9171 -87.7102        casual   \n",
       "2          41.8604   -87.6258  41.8708 -87.6257        member   \n",
       "3          41.8969   -87.6217  41.9080 -87.6315        member   \n",
       "4          41.8708   -87.6257  41.8708 -87.6257        member   \n",
       "...            ...        ...      ...      ...           ...   \n",
       "3294686    41.9013   -87.6774  41.9105 -87.6531        casual   \n",
       "3294687    41.9007   -87.6626  41.9094 -87.6777        member   \n",
       "3294688    41.8551   -87.6541  41.8551 -87.6541        casual   \n",
       "3294689    41.8916   -87.6484  41.8837 -87.6487        member   \n",
       "3294690    41.9097   -87.6481  41.8982 -87.6375        member   \n",
       "\n",
       "                    start_at               end_at      ride_length  \\\n",
       "0        2020-01-04 00:00:00  2020-01-04 00:23:00  0 days 00:23:00   \n",
       "1        2020-01-04 00:02:00  2020-01-04 00:24:00  0 days 00:22:00   \n",
       "2        2020-01-04 00:02:00  2020-01-04 00:10:00  0 days 00:08:00   \n",
       "3        2020-01-04 00:06:00  2020-01-04 00:14:00  0 days 00:08:00   \n",
       "4        2020-01-04 00:11:00  2020-01-04 00:11:00  0 days 00:00:00   \n",
       "...                      ...                  ...              ...   \n",
       "3294686  2020-04-30 09:57:00  2020-04-30 10:19:00  0 days 00:22:00   \n",
       "3294687  2020-04-30 09:57:00  2020-04-30 10:04:00  0 days 00:07:00   \n",
       "3294688  2020-04-30 09:59:00  2020-04-30 10:27:00  0 days 00:28:00   \n",
       "3294689  2020-04-30 09:59:00  2020-04-30 10:03:00  0 days 00:04:00   \n",
       "3294690  2020-04-30 09:59:00  2020-04-30 10:07:00  0 days 00:08:00   \n",
       "\n",
       "        start_date1 day_of_week  \n",
       "0        2020-01-04      Friday  \n",
       "1        2020-01-04      Friday  \n",
       "2        2020-01-04      Friday  \n",
       "3        2020-01-04      Friday  \n",
       "4        2020-01-04      Friday  \n",
       "...             ...         ...  \n",
       "3294686  2020-04-30   Wednesday  \n",
       "3294687  2020-04-30   Wednesday  \n",
       "3294688  2020-04-30   Wednesday  \n",
       "3294689  2020-04-30   Wednesday  \n",
       "3294690  2020-04-30   Wednesday  \n",
       "\n",
       "[3294691 rows x 20 columns]"
      ]
     },
     "execution_count": 20,
     "metadata": {},
     "output_type": "execute_result"
    }
   ],
   "source": [
    "# Reading cleaned file\n",
    "cleaned_df"
   ]
  },
  {
   "cell_type": "code",
   "execution_count": 21,
   "id": "50fd8ae8",
   "metadata": {},
   "outputs": [],
   "source": [
    "# Extracting year and month from start_date1 column\n",
    "\n",
    "cleaned_df['year'] = pd.DatetimeIndex(cleaned_df['start_date1']).year\n",
    "cleaned_df['month'] = pd.DatetimeIndex(cleaned_df['start_date1']).month"
   ]
  },
  {
   "cell_type": "code",
   "execution_count": 22,
   "id": "3404f63e",
   "metadata": {},
   "outputs": [
    {
     "name": "stdout",
     "output_type": "stream",
     "text": [
      "<class 'pandas.core.frame.DataFrame'>\n",
      "RangeIndex: 3294691 entries, 0 to 3294690\n",
      "Data columns (total 22 columns):\n",
      " #   Column              Dtype  \n",
      "---  ------              -----  \n",
      " 0   Unnamed: 0.1        int64  \n",
      " 1   Unnamed: 0          int64  \n",
      " 2   ride_id             object \n",
      " 3   rideable_type       object \n",
      " 4   started_at          object \n",
      " 5   ended_at            object \n",
      " 6   start_station_name  object \n",
      " 7   start_station_id    object \n",
      " 8   end_station_name    object \n",
      " 9   end_station_id      object \n",
      " 10  start_lat           float64\n",
      " 11  start_lng           float64\n",
      " 12  end_lat             float64\n",
      " 13  end_lng             float64\n",
      " 14  member_casual       object \n",
      " 15  start_at            object \n",
      " 16  end_at              object \n",
      " 17  ride_length         object \n",
      " 18  start_date1         object \n",
      " 19  day_of_week         object \n",
      " 20  year                int64  \n",
      " 21  month               int64  \n",
      "dtypes: float64(4), int64(4), object(14)\n",
      "memory usage: 553.0+ MB\n"
     ]
    }
   ],
   "source": [
    "cleaned_df.info()"
   ]
  },
  {
   "cell_type": "code",
   "execution_count": 23,
   "id": "9373b9c0",
   "metadata": {},
   "outputs": [],
   "source": [
    "# Converting object to timedelta data type of ride_length\n",
    "\n",
    "cleaned_df['ride_len'] = pd.to_timedelta(cleaned_df['ride_length'])"
   ]
  },
  {
   "cell_type": "code",
   "execution_count": 24,
   "id": "2f9fb715",
   "metadata": {},
   "outputs": [
    {
     "data": {
      "text/plain": [
       "Unnamed: 0.1          0\n",
       "Unnamed: 0            0\n",
       "ride_id               0\n",
       "rideable_type         0\n",
       "started_at            0\n",
       "ended_at              0\n",
       "start_station_name    0\n",
       "start_station_id      0\n",
       "end_station_name      0\n",
       "end_station_id        0\n",
       "start_lat             0\n",
       "start_lng             0\n",
       "end_lat               0\n",
       "end_lng               0\n",
       "member_casual         0\n",
       "start_at              0\n",
       "end_at                0\n",
       "ride_length           0\n",
       "start_date1           0\n",
       "day_of_week           0\n",
       "year                  0\n",
       "month                 0\n",
       "ride_len              0\n",
       "dtype: int64"
      ]
     },
     "execution_count": 24,
     "metadata": {},
     "output_type": "execute_result"
    }
   ],
   "source": [
    "# Checking if any null values in dataframe\n",
    "\n",
    "cleaned_df.isnull().sum()"
   ]
  },
  {
   "cell_type": "code",
   "execution_count": 25,
   "id": "1ec0ae1a",
   "metadata": {},
   "outputs": [
    {
     "data": {
      "text/plain": [
       "False"
      ]
     },
     "execution_count": 25,
     "metadata": {},
     "output_type": "execute_result"
    }
   ],
   "source": [
    "# Checking if any duplicate values in dataframe\n",
    "\n",
    "cleaned_df.duplicated().any()"
   ]
  },
  {
   "cell_type": "code",
   "execution_count": 26,
   "id": "01c02a07",
   "metadata": {},
   "outputs": [
    {
     "data": {
      "text/html": [
       "<div>\n",
       "<style scoped>\n",
       "    .dataframe tbody tr th:only-of-type {\n",
       "        vertical-align: middle;\n",
       "    }\n",
       "\n",
       "    .dataframe tbody tr th {\n",
       "        vertical-align: top;\n",
       "    }\n",
       "\n",
       "    .dataframe thead th {\n",
       "        text-align: right;\n",
       "    }\n",
       "</style>\n",
       "<table border=\"1\" class=\"dataframe\">\n",
       "  <thead>\n",
       "    <tr style=\"text-align: right;\">\n",
       "      <th></th>\n",
       "      <th>Unnamed: 0.1</th>\n",
       "      <th>Unnamed: 0</th>\n",
       "      <th>ride_id</th>\n",
       "      <th>rideable_type</th>\n",
       "      <th>started_at</th>\n",
       "      <th>ended_at</th>\n",
       "      <th>start_station_name</th>\n",
       "      <th>start_station_id</th>\n",
       "      <th>end_station_name</th>\n",
       "      <th>end_station_id</th>\n",
       "      <th>...</th>\n",
       "      <th>end_lng</th>\n",
       "      <th>member_casual</th>\n",
       "      <th>start_at</th>\n",
       "      <th>end_at</th>\n",
       "      <th>ride_length</th>\n",
       "      <th>start_date1</th>\n",
       "      <th>day_of_week</th>\n",
       "      <th>year</th>\n",
       "      <th>month</th>\n",
       "      <th>ride_len</th>\n",
       "    </tr>\n",
       "  </thead>\n",
       "  <tbody>\n",
       "    <tr>\n",
       "      <th>0</th>\n",
       "      <td>74346</td>\n",
       "      <td>74346</td>\n",
       "      <td>5DB63F4E4EB6A9CF</td>\n",
       "      <td>docked_bike</td>\n",
       "      <td>01-04-20 0:00</td>\n",
       "      <td>01-04-20 0:23</td>\n",
       "      <td>Damen Ave &amp; Wellington Ave</td>\n",
       "      <td>162.0</td>\n",
       "      <td>Pine Grove Ave &amp; Waveland Ave</td>\n",
       "      <td>232.0</td>\n",
       "      <td>...</td>\n",
       "      <td>-87.6463</td>\n",
       "      <td>casual</td>\n",
       "      <td>2020-01-04 00:00:00</td>\n",
       "      <td>2020-01-04 00:23:00</td>\n",
       "      <td>0 days 00:23:00</td>\n",
       "      <td>2020-01-04</td>\n",
       "      <td>Friday</td>\n",
       "      <td>2020</td>\n",
       "      <td>1</td>\n",
       "      <td>0 days 00:23:00</td>\n",
       "    </tr>\n",
       "    <tr>\n",
       "      <th>1</th>\n",
       "      <td>17735</td>\n",
       "      <td>17735</td>\n",
       "      <td>6D93A270684EC452</td>\n",
       "      <td>docked_bike</td>\n",
       "      <td>01-04-20 0:02</td>\n",
       "      <td>01-04-20 0:24</td>\n",
       "      <td>Damen Ave &amp; Wellington Ave</td>\n",
       "      <td>162.0</td>\n",
       "      <td>Spaulding Ave &amp; Armitage Ave</td>\n",
       "      <td>506.0</td>\n",
       "      <td>...</td>\n",
       "      <td>-87.7102</td>\n",
       "      <td>casual</td>\n",
       "      <td>2020-01-04 00:02:00</td>\n",
       "      <td>2020-01-04 00:24:00</td>\n",
       "      <td>0 days 00:22:00</td>\n",
       "      <td>2020-01-04</td>\n",
       "      <td>Friday</td>\n",
       "      <td>2020</td>\n",
       "      <td>1</td>\n",
       "      <td>0 days 00:22:00</td>\n",
       "    </tr>\n",
       "    <tr>\n",
       "      <th>2</th>\n",
       "      <td>46139</td>\n",
       "      <td>46139</td>\n",
       "      <td>1FD159E93F7BAFA1</td>\n",
       "      <td>docked_bike</td>\n",
       "      <td>01-04-20 0:02</td>\n",
       "      <td>01-04-20 0:10</td>\n",
       "      <td>Wabash Ave &amp; 16th St</td>\n",
       "      <td>72.0</td>\n",
       "      <td>Wabash Ave &amp; 9th St</td>\n",
       "      <td>321.0</td>\n",
       "      <td>...</td>\n",
       "      <td>-87.6257</td>\n",
       "      <td>member</td>\n",
       "      <td>2020-01-04 00:02:00</td>\n",
       "      <td>2020-01-04 00:10:00</td>\n",
       "      <td>0 days 00:08:00</td>\n",
       "      <td>2020-01-04</td>\n",
       "      <td>Friday</td>\n",
       "      <td>2020</td>\n",
       "      <td>1</td>\n",
       "      <td>0 days 00:08:00</td>\n",
       "    </tr>\n",
       "    <tr>\n",
       "      <th>3</th>\n",
       "      <td>53075</td>\n",
       "      <td>53075</td>\n",
       "      <td>091D47E4F0FC5022</td>\n",
       "      <td>docked_bike</td>\n",
       "      <td>01-04-20 0:06</td>\n",
       "      <td>01-04-20 0:14</td>\n",
       "      <td>Mies van der Rohe Way &amp; Chicago Ave</td>\n",
       "      <td>173.0</td>\n",
       "      <td>Clark St &amp; Schiller St</td>\n",
       "      <td>301.0</td>\n",
       "      <td>...</td>\n",
       "      <td>-87.6315</td>\n",
       "      <td>member</td>\n",
       "      <td>2020-01-04 00:06:00</td>\n",
       "      <td>2020-01-04 00:14:00</td>\n",
       "      <td>0 days 00:08:00</td>\n",
       "      <td>2020-01-04</td>\n",
       "      <td>Friday</td>\n",
       "      <td>2020</td>\n",
       "      <td>1</td>\n",
       "      <td>0 days 00:08:00</td>\n",
       "    </tr>\n",
       "    <tr>\n",
       "      <th>4</th>\n",
       "      <td>46138</td>\n",
       "      <td>46138</td>\n",
       "      <td>07F785C9DDA3404C</td>\n",
       "      <td>docked_bike</td>\n",
       "      <td>01-04-20 0:11</td>\n",
       "      <td>01-04-20 0:11</td>\n",
       "      <td>Wabash Ave &amp; 9th St</td>\n",
       "      <td>321.0</td>\n",
       "      <td>Wabash Ave &amp; 9th St</td>\n",
       "      <td>321.0</td>\n",
       "      <td>...</td>\n",
       "      <td>-87.6257</td>\n",
       "      <td>member</td>\n",
       "      <td>2020-01-04 00:11:00</td>\n",
       "      <td>2020-01-04 00:11:00</td>\n",
       "      <td>0 days 00:00:00</td>\n",
       "      <td>2020-01-04</td>\n",
       "      <td>Friday</td>\n",
       "      <td>2020</td>\n",
       "      <td>1</td>\n",
       "      <td>0 days 00:00:00</td>\n",
       "    </tr>\n",
       "    <tr>\n",
       "      <th>...</th>\n",
       "      <td>...</td>\n",
       "      <td>...</td>\n",
       "      <td>...</td>\n",
       "      <td>...</td>\n",
       "      <td>...</td>\n",
       "      <td>...</td>\n",
       "      <td>...</td>\n",
       "      <td>...</td>\n",
       "      <td>...</td>\n",
       "      <td>...</td>\n",
       "      <td>...</td>\n",
       "      <td>...</td>\n",
       "      <td>...</td>\n",
       "      <td>...</td>\n",
       "      <td>...</td>\n",
       "      <td>...</td>\n",
       "      <td>...</td>\n",
       "      <td>...</td>\n",
       "      <td>...</td>\n",
       "      <td>...</td>\n",
       "      <td>...</td>\n",
       "    </tr>\n",
       "    <tr>\n",
       "      <th>3294686</th>\n",
       "      <td>70007</td>\n",
       "      <td>70007</td>\n",
       "      <td>FF13E71FC8997704</td>\n",
       "      <td>docked_bike</td>\n",
       "      <td>30-04-20 9:57</td>\n",
       "      <td>30-04-20 10:19</td>\n",
       "      <td>Damen Ave &amp; Thomas St (Augusta Blvd)</td>\n",
       "      <td>183.0</td>\n",
       "      <td>Sheffield Ave &amp; Kingsbury St</td>\n",
       "      <td>20.0</td>\n",
       "      <td>...</td>\n",
       "      <td>-87.6531</td>\n",
       "      <td>casual</td>\n",
       "      <td>2020-04-30 09:57:00</td>\n",
       "      <td>2020-04-30 10:19:00</td>\n",
       "      <td>0 days 00:22:00</td>\n",
       "      <td>2020-04-30</td>\n",
       "      <td>Wednesday</td>\n",
       "      <td>2020</td>\n",
       "      <td>4</td>\n",
       "      <td>0 days 00:22:00</td>\n",
       "    </tr>\n",
       "    <tr>\n",
       "      <th>3294687</th>\n",
       "      <td>16169</td>\n",
       "      <td>16169</td>\n",
       "      <td>9E3014D72E167A84</td>\n",
       "      <td>docked_bike</td>\n",
       "      <td>30-04-20 9:57</td>\n",
       "      <td>30-04-20 10:04</td>\n",
       "      <td>Noble St &amp; Milwaukee Ave</td>\n",
       "      <td>29.0</td>\n",
       "      <td>Damen Ave &amp; Pierce Ave</td>\n",
       "      <td>69.0</td>\n",
       "      <td>...</td>\n",
       "      <td>-87.6777</td>\n",
       "      <td>member</td>\n",
       "      <td>2020-04-30 09:57:00</td>\n",
       "      <td>2020-04-30 10:04:00</td>\n",
       "      <td>0 days 00:07:00</td>\n",
       "      <td>2020-04-30</td>\n",
       "      <td>Wednesday</td>\n",
       "      <td>2020</td>\n",
       "      <td>4</td>\n",
       "      <td>0 days 00:07:00</td>\n",
       "    </tr>\n",
       "    <tr>\n",
       "      <th>3294688</th>\n",
       "      <td>78243</td>\n",
       "      <td>78243</td>\n",
       "      <td>25AC1DC3D7FA9866</td>\n",
       "      <td>docked_bike</td>\n",
       "      <td>30-04-20 9:59</td>\n",
       "      <td>30-04-20 10:27</td>\n",
       "      <td>May St &amp; Cullerton St</td>\n",
       "      <td>171.0</td>\n",
       "      <td>May St &amp; Cullerton St</td>\n",
       "      <td>171.0</td>\n",
       "      <td>...</td>\n",
       "      <td>-87.6541</td>\n",
       "      <td>casual</td>\n",
       "      <td>2020-04-30 09:59:00</td>\n",
       "      <td>2020-04-30 10:27:00</td>\n",
       "      <td>0 days 00:28:00</td>\n",
       "      <td>2020-04-30</td>\n",
       "      <td>Wednesday</td>\n",
       "      <td>2020</td>\n",
       "      <td>4</td>\n",
       "      <td>0 days 00:28:00</td>\n",
       "    </tr>\n",
       "    <tr>\n",
       "      <th>3294689</th>\n",
       "      <td>273</td>\n",
       "      <td>273</td>\n",
       "      <td>70963C6718B9E7A7</td>\n",
       "      <td>docked_bike</td>\n",
       "      <td>30-04-20 9:59</td>\n",
       "      <td>30-04-20 10:03</td>\n",
       "      <td>Milwaukee Ave &amp; Grand Ave</td>\n",
       "      <td>84.0</td>\n",
       "      <td>Green St &amp; Randolph St</td>\n",
       "      <td>112.0</td>\n",
       "      <td>...</td>\n",
       "      <td>-87.6487</td>\n",
       "      <td>member</td>\n",
       "      <td>2020-04-30 09:59:00</td>\n",
       "      <td>2020-04-30 10:03:00</td>\n",
       "      <td>0 days 00:04:00</td>\n",
       "      <td>2020-04-30</td>\n",
       "      <td>Wednesday</td>\n",
       "      <td>2020</td>\n",
       "      <td>4</td>\n",
       "      <td>0 days 00:04:00</td>\n",
       "    </tr>\n",
       "    <tr>\n",
       "      <th>3294690</th>\n",
       "      <td>55991</td>\n",
       "      <td>55991</td>\n",
       "      <td>863E47DC4D198439</td>\n",
       "      <td>docked_bike</td>\n",
       "      <td>30-04-20 9:59</td>\n",
       "      <td>30-04-20 10:07</td>\n",
       "      <td>Halsted St &amp; Clybourn Ave</td>\n",
       "      <td>331.0</td>\n",
       "      <td>Orleans St &amp; Chestnut St (NEXT Apts)</td>\n",
       "      <td>620.0</td>\n",
       "      <td>...</td>\n",
       "      <td>-87.6375</td>\n",
       "      <td>member</td>\n",
       "      <td>2020-04-30 09:59:00</td>\n",
       "      <td>2020-04-30 10:07:00</td>\n",
       "      <td>0 days 00:08:00</td>\n",
       "      <td>2020-04-30</td>\n",
       "      <td>Wednesday</td>\n",
       "      <td>2020</td>\n",
       "      <td>4</td>\n",
       "      <td>0 days 00:08:00</td>\n",
       "    </tr>\n",
       "  </tbody>\n",
       "</table>\n",
       "<p>3294691 rows × 23 columns</p>\n",
       "</div>"
      ],
      "text/plain": [
       "         Unnamed: 0.1  Unnamed: 0           ride_id rideable_type  \\\n",
       "0               74346       74346  5DB63F4E4EB6A9CF   docked_bike   \n",
       "1               17735       17735  6D93A270684EC452   docked_bike   \n",
       "2               46139       46139  1FD159E93F7BAFA1   docked_bike   \n",
       "3               53075       53075  091D47E4F0FC5022   docked_bike   \n",
       "4               46138       46138  07F785C9DDA3404C   docked_bike   \n",
       "...               ...         ...               ...           ...   \n",
       "3294686         70007       70007  FF13E71FC8997704   docked_bike   \n",
       "3294687         16169       16169  9E3014D72E167A84   docked_bike   \n",
       "3294688         78243       78243  25AC1DC3D7FA9866   docked_bike   \n",
       "3294689           273         273  70963C6718B9E7A7   docked_bike   \n",
       "3294690         55991       55991  863E47DC4D198439   docked_bike   \n",
       "\n",
       "            started_at        ended_at                    start_station_name  \\\n",
       "0        01-04-20 0:00   01-04-20 0:23            Damen Ave & Wellington Ave   \n",
       "1        01-04-20 0:02   01-04-20 0:24            Damen Ave & Wellington Ave   \n",
       "2        01-04-20 0:02   01-04-20 0:10                  Wabash Ave & 16th St   \n",
       "3        01-04-20 0:06   01-04-20 0:14   Mies van der Rohe Way & Chicago Ave   \n",
       "4        01-04-20 0:11   01-04-20 0:11                   Wabash Ave & 9th St   \n",
       "...                ...             ...                                   ...   \n",
       "3294686  30-04-20 9:57  30-04-20 10:19  Damen Ave & Thomas St (Augusta Blvd)   \n",
       "3294687  30-04-20 9:57  30-04-20 10:04              Noble St & Milwaukee Ave   \n",
       "3294688  30-04-20 9:59  30-04-20 10:27                 May St & Cullerton St   \n",
       "3294689  30-04-20 9:59  30-04-20 10:03             Milwaukee Ave & Grand Ave   \n",
       "3294690  30-04-20 9:59  30-04-20 10:07             Halsted St & Clybourn Ave   \n",
       "\n",
       "        start_station_id                      end_station_name end_station_id  \\\n",
       "0                  162.0         Pine Grove Ave & Waveland Ave          232.0   \n",
       "1                  162.0          Spaulding Ave & Armitage Ave          506.0   \n",
       "2                   72.0                   Wabash Ave & 9th St          321.0   \n",
       "3                  173.0                Clark St & Schiller St          301.0   \n",
       "4                  321.0                   Wabash Ave & 9th St          321.0   \n",
       "...                  ...                                   ...            ...   \n",
       "3294686            183.0          Sheffield Ave & Kingsbury St           20.0   \n",
       "3294687             29.0                Damen Ave & Pierce Ave           69.0   \n",
       "3294688            171.0                 May St & Cullerton St          171.0   \n",
       "3294689             84.0                Green St & Randolph St          112.0   \n",
       "3294690            331.0  Orleans St & Chestnut St (NEXT Apts)          620.0   \n",
       "\n",
       "         ...  end_lng  member_casual             start_at  \\\n",
       "0        ... -87.6463         casual  2020-01-04 00:00:00   \n",
       "1        ... -87.7102         casual  2020-01-04 00:02:00   \n",
       "2        ... -87.6257         member  2020-01-04 00:02:00   \n",
       "3        ... -87.6315         member  2020-01-04 00:06:00   \n",
       "4        ... -87.6257         member  2020-01-04 00:11:00   \n",
       "...      ...      ...            ...                  ...   \n",
       "3294686  ... -87.6531         casual  2020-04-30 09:57:00   \n",
       "3294687  ... -87.6777         member  2020-04-30 09:57:00   \n",
       "3294688  ... -87.6541         casual  2020-04-30 09:59:00   \n",
       "3294689  ... -87.6487         member  2020-04-30 09:59:00   \n",
       "3294690  ... -87.6375         member  2020-04-30 09:59:00   \n",
       "\n",
       "                      end_at      ride_length start_date1 day_of_week  year  \\\n",
       "0        2020-01-04 00:23:00  0 days 00:23:00  2020-01-04      Friday  2020   \n",
       "1        2020-01-04 00:24:00  0 days 00:22:00  2020-01-04      Friday  2020   \n",
       "2        2020-01-04 00:10:00  0 days 00:08:00  2020-01-04      Friday  2020   \n",
       "3        2020-01-04 00:14:00  0 days 00:08:00  2020-01-04      Friday  2020   \n",
       "4        2020-01-04 00:11:00  0 days 00:00:00  2020-01-04      Friday  2020   \n",
       "...                      ...              ...         ...         ...   ...   \n",
       "3294686  2020-04-30 10:19:00  0 days 00:22:00  2020-04-30   Wednesday  2020   \n",
       "3294687  2020-04-30 10:04:00  0 days 00:07:00  2020-04-30   Wednesday  2020   \n",
       "3294688  2020-04-30 10:27:00  0 days 00:28:00  2020-04-30   Wednesday  2020   \n",
       "3294689  2020-04-30 10:03:00  0 days 00:04:00  2020-04-30   Wednesday  2020   \n",
       "3294690  2020-04-30 10:07:00  0 days 00:08:00  2020-04-30   Wednesday  2020   \n",
       "\n",
       "        month        ride_len  \n",
       "0           1 0 days 00:23:00  \n",
       "1           1 0 days 00:22:00  \n",
       "2           1 0 days 00:08:00  \n",
       "3           1 0 days 00:08:00  \n",
       "4           1 0 days 00:00:00  \n",
       "...       ...             ...  \n",
       "3294686     4 0 days 00:22:00  \n",
       "3294687     4 0 days 00:07:00  \n",
       "3294688     4 0 days 00:28:00  \n",
       "3294689     4 0 days 00:04:00  \n",
       "3294690     4 0 days 00:08:00  \n",
       "\n",
       "[3294691 rows x 23 columns]"
      ]
     },
     "execution_count": 26,
     "metadata": {},
     "output_type": "execute_result"
    }
   ],
   "source": [
    "cleaned_df"
   ]
  },
  {
   "cell_type": "markdown",
   "id": "96410adb",
   "metadata": {},
   "source": [
    "# Analysis"
   ]
  },
  {
   "cell_type": "code",
   "execution_count": 27,
   "id": "51e3f3a1",
   "metadata": {},
   "outputs": [],
   "source": [
    "sns.set_style('whitegrid')"
   ]
  },
  {
   "cell_type": "code",
   "execution_count": 28,
   "id": "3e99ae1a",
   "metadata": {},
   "outputs": [
    {
     "data": {
      "text/plain": [
       "Timedelta('0 days 00:12:02.537602678')"
      ]
     },
     "execution_count": 28,
     "metadata": {},
     "output_type": "execute_result"
    }
   ],
   "source": [
    "# Calculating average ride length for members\n",
    "\n",
    "avg_ride_len_mem = cleaned_df[cleaned_df['member_casual'] == 'member']\n",
    "avg_ride_len_mem = avg_ride_len_mem['ride_len'].mean()\n",
    "avg_ride_len_mem"
   ]
  },
  {
   "cell_type": "code",
   "execution_count": 29,
   "id": "8e4cf7f1",
   "metadata": {},
   "outputs": [
    {
     "data": {
      "text/plain": [
       "Timedelta('0 days 00:42:08.936057203')"
      ]
     },
     "execution_count": 29,
     "metadata": {},
     "output_type": "execute_result"
    }
   ],
   "source": [
    "# Calculating average ride length for casual riders\n",
    "\n",
    "avg_ride_len_casual = cleaned_df[cleaned_df['member_casual'] == 'casual']\n",
    "avg_ride_len_casual = avg_ride_len_casual['ride_len'].mean()\n",
    "avg_ride_len_casual"
   ]
  },
  {
   "cell_type": "code",
   "execution_count": 30,
   "id": "a06d105b",
   "metadata": {},
   "outputs": [
    {
     "data": {
      "text/plain": [
       "Timedelta('0 days 00:24:23.388881688')"
      ]
     },
     "execution_count": 30,
     "metadata": {},
     "output_type": "execute_result"
    }
   ],
   "source": [
    "# Calcualting average ride length for all typ of users\n",
    "\n",
    "avg_ride_len_users = cleaned_df['ride_len'].mean()\n",
    "avg_ride_len_users"
   ]
  },
  {
   "cell_type": "code",
   "execution_count": 31,
   "id": "36ca9789",
   "metadata": {
    "scrolled": true
   },
   "outputs": [
    {
     "data": {
      "text/plain": [
       "Timedelta('275 days 16:04:00')"
      ]
     },
     "execution_count": 31,
     "metadata": {},
     "output_type": "execute_result"
    }
   ],
   "source": [
    "# Calculating max ride length for all users\n",
    "\n",
    "max_ride_len_users = cleaned_df['ride_len'].max()\n",
    "max_ride_len_users"
   ]
  },
  {
   "cell_type": "code",
   "execution_count": 32,
   "id": "f1881ac3",
   "metadata": {},
   "outputs": [
    {
     "data": {
      "text/plain": [
       "Timedelta('244 days 14:25:00')"
      ]
     },
     "execution_count": 32,
     "metadata": {},
     "output_type": "execute_result"
    }
   ],
   "source": [
    "# Calculating max ride length for members\n",
    "\n",
    "max_ride_len_mem = cleaned_df[cleaned_df['member_casual'] =='member']\n",
    "max_ride_len_mem = max_ride_len_mem['ride_len'].max()\n",
    "max_ride_len_mem"
   ]
  },
  {
   "cell_type": "code",
   "execution_count": 33,
   "id": "91bc49b3",
   "metadata": {},
   "outputs": [
    {
     "data": {
      "text/plain": [
       "Timedelta('275 days 16:04:00')"
      ]
     },
     "execution_count": 33,
     "metadata": {},
     "output_type": "execute_result"
    }
   ],
   "source": [
    "# Calculating max ride length for casual riders\n",
    "\n",
    "max_ride_len_casual = cleaned_df[cleaned_df['member_casual'] =='casual']\n",
    "max_ride_len_casual = max_ride_len_casual['ride_len'].max()\n",
    "max_ride_len_casual"
   ]
  },
  {
   "cell_type": "code",
   "execution_count": 35,
   "id": "97352cda",
   "metadata": {},
   "outputs": [
    {
     "data": {
      "text/plain": [
       "0    Friday\n",
       "Name: day_of_week, dtype: object"
      ]
     },
     "execution_count": 35,
     "metadata": {},
     "output_type": "execute_result"
    }
   ],
   "source": [
    "# Calculating mode of day_of_week for all type of users\n",
    "\n",
    "mode_day_of_week = cleaned_df['day_of_week'].mode()\n",
    "mode_day_of_week "
   ]
  },
  {
   "cell_type": "code",
   "execution_count": 36,
   "id": "00fe51d4",
   "metadata": {},
   "outputs": [
    {
     "data": {
      "text/plain": [
       "0    Friday\n",
       "Name: day_of_week, dtype: object"
      ]
     },
     "execution_count": 36,
     "metadata": {},
     "output_type": "execute_result"
    }
   ],
   "source": [
    "# Calculating mode of day_of_week for members \n",
    "\n",
    "mode_day_of_week_mem = cleaned_df[cleaned_df['member_casual'] == 'member']\n",
    "mode_day_of_week_mem = mode_day_of_week_mem['day_of_week'].mode()\n",
    "mode_day_of_week_mem"
   ]
  },
  {
   "cell_type": "code",
   "execution_count": 38,
   "id": "049a94ff",
   "metadata": {},
   "outputs": [
    {
     "data": {
      "text/plain": [
       "0    Friday\n",
       "Name: day_of_week, dtype: object"
      ]
     },
     "execution_count": 38,
     "metadata": {},
     "output_type": "execute_result"
    }
   ],
   "source": [
    "# Calculating mode of day_of_week for casual users \n",
    "\n",
    "mode_day_of_week_casual = cleaned_df[cleaned_df['member_casual'] == 'casual']\n",
    "mode_day_of_week_casual = mode_day_of_week_casual['day_of_week'].mode()\n",
    "mode_day_of_week_casual"
   ]
  },
  {
   "cell_type": "code",
   "execution_count": 39,
   "id": "f72b3286",
   "metadata": {},
   "outputs": [
    {
     "data": {
      "text/plain": [
       "day_of_week\n",
       "0    395458\n",
       "1    405813\n",
       "2    441371\n",
       "3    438893\n",
       "4    486582\n",
       "5    628646\n",
       "6    497928\n",
       "Name: ride_id, dtype: int64"
      ]
     },
     "execution_count": 39,
     "metadata": {},
     "output_type": "execute_result"
    }
   ],
   "source": [
    "# Calculating number of rides for users by \"day_of_week\" by adding count of ride_id\n",
    "\n",
    "dict1 = {'Sunday':0, 'Monday':1, 'Tuesday':2, 'Wednesday':3, 'Thursday':4, 'Friday':5, 'Saturday':6}\n",
    "\n",
    "cleaned_df['day_of_week'] = cleaned_df['day_of_week'].apply(lambda y: dict1[y])\n",
    "\n",
    "count_users_day_of_week = cleaned_df.groupby('day_of_week')['ride_id'].count()\n",
    "count_users_day_of_week = count_users_day_of_week.sort_index()\n",
    "count_users_day_of_week "
   ]
  },
  {
   "cell_type": "code",
   "execution_count": 40,
   "id": "105174dd",
   "metadata": {},
   "outputs": [
    {
     "data": {
      "text/plain": [
       "day_of_week\n",
       "0    252712\n",
       "1    269892\n",
       "2    291260\n",
       "3    282910\n",
       "4    289452\n",
       "5    308084\n",
       "6    249142\n",
       "Name: ride_id, dtype: int64"
      ]
     },
     "execution_count": 40,
     "metadata": {},
     "output_type": "execute_result"
    }
   ],
   "source": [
    "# Calculating number of rides for members by \"day_of_week\" by adding count of ride_id\n",
    "\n",
    "count_mem_day_of_week = cleaned_df[cleaned_df['member_casual'] == 'member'].groupby('day_of_week')['ride_id'].count()\n",
    "count_mem_day_of_week"
   ]
  },
  {
   "cell_type": "code",
   "execution_count": 41,
   "id": "61251c91",
   "metadata": {},
   "outputs": [
    {
     "data": {
      "text/plain": [
       "day_of_week\n",
       "0    142746\n",
       "1    135921\n",
       "2    150111\n",
       "3    155983\n",
       "4    197130\n",
       "5    320562\n",
       "6    248786\n",
       "Name: ride_id, dtype: int64"
      ]
     },
     "execution_count": 41,
     "metadata": {},
     "output_type": "execute_result"
    }
   ],
   "source": [
    "# Calculating number of rides for casual riders by \"day_of_week\" by adding count of ride_id\n",
    "\n",
    "count_casual_day_of_week = cleaned_df[cleaned_df['member_casual'] == 'casual'].groupby('day_of_week')['ride_id'].count()\n",
    "count_casual_day_of_week"
   ]
  },
  {
   "cell_type": "code",
   "execution_count": 44,
   "id": "06faf138",
   "metadata": {},
   "outputs": [
    {
     "data": {
      "image/png": "[encoded data removed]",
      "text/plain": [
       "<Figure size 576x432 with 1 Axes>"
      ]
     },
     "metadata": {},
     "output_type": "display_data"
    }
   ],
   "source": [
    "# Plotting graph of day_of_week vs number of rides\n",
    "\n",
    "plt.figure(figsize = (8,6))\n",
    "plt.plot(count_users_day_of_week.index, count_users_day_of_week.values)\n",
    "plt.plot(count_mem_day_of_week.index, count_mem_day_of_week.values)\n",
    "plt.plot(count_casual_day_of_week.index, count_casual_day_of_week.values)\n",
    "plt.title(\"Number of rides per 'day_of_week' for different users\")\n",
    "plt.legend([\"user\", \"member\", \"casual\"])\n",
    "labels = [\"Sunday\", \"Monday\", \"Tuesday\", \"Wednesday\", \"Thursday\", \"Friday\", \"Saturday\"]\n",
    "plt.xticks(count_casual_day_of_week.index, labels)\n",
    "plt.show()"
   ]
  },
  {
   "cell_type": "code",
   "execution_count": 45,
   "id": "6f90571c",
   "metadata": {},
   "outputs": [
    {
     "data": {
      "text/plain": [
       "day_of_week\n",
       "0   0 days 00:26:56.396767798\n",
       "1   0 days 00:04:42.885969646\n",
       "2   0 days 00:26:32.941838045\n",
       "3   0 days 00:23:07.607605954\n",
       "4   0 days 00:11:53.479582064\n",
       "5   0 days 00:35:57.515226375\n",
       "6   0 days 00:35:12.412045516\n",
       "Name: ride_len, dtype: timedelta64[ns]"
      ]
     },
     "execution_count": 45,
     "metadata": {},
     "output_type": "execute_result"
    }
   ],
   "source": [
    "# Calculating the average ride_length for users by week_day\n",
    "user_avg_ride_len_day_of_week = cleaned_df.groupby(\"day_of_week\")['ride_len'].mean(numeric_only=False)\n",
    "user_avg_ride_len_day_of_week"
   ]
  },
  {
   "cell_type": "code",
   "execution_count": 46,
   "id": "bacf127f",
   "metadata": {},
   "outputs": [
    {
     "data": {
      "text/plain": [
       "day_of_week\n",
       "0     0 days 00:15:44.011135205\n",
       "1   -1 days +23:49:43.785047353\n",
       "2     0 days 00:16:49.691804573\n",
       "3     0 days 00:13:03.667166236\n",
       "4     0 days 00:09:44.691603443\n",
       "5     0 days 00:19:35.230612430\n",
       "6     0 days 00:19:03.386815550\n",
       "Name: ride_len, dtype: timedelta64[ns]"
      ]
     },
     "execution_count": 46,
     "metadata": {},
     "output_type": "execute_result"
    }
   ],
   "source": [
    "# Calculating the average ride_length for members by week_day\n",
    "mem_avg_ride_len_day_of_week = cleaned_df[cleaned_df[\"member_casual\"] == \"member\"].groupby('day_of_week')['ride_len'].mean(numeric_only=False)\n",
    "mem_avg_ride_len_day_of_week"
   ]
  },
  {
   "cell_type": "code",
   "execution_count": 47,
   "id": "e541801b",
   "metadata": {},
   "outputs": [
    {
     "data": {
      "text/plain": [
       "day_of_week\n",
       "0   0 days 00:46:46.762298067\n",
       "1   0 days 00:34:28.188800847\n",
       "2   0 days 00:45:24.620427550\n",
       "3   0 days 00:41:22.988447459\n",
       "4   0 days 00:15:02.582904682\n",
       "5   0 days 00:51:41.564031295\n",
       "6   0 days 00:51:22.823900862\n",
       "Name: ride_len, dtype: timedelta64[ns]"
      ]
     },
     "execution_count": 47,
     "metadata": {},
     "output_type": "execute_result"
    }
   ],
   "source": [
    "# Calculate the average ride_length for casual by week_day\n",
    "casual_avg_ride_len_day_of_week = cleaned_df[cleaned_df[\"member_casual\"] == \"casual\"].groupby('day_of_week')['ride_len'].mean(numeric_only=False)\n",
    "casual_avg_ride_len_day_of_week"
   ]
  },
  {
   "cell_type": "code",
   "execution_count": 48,
   "id": "205651e5",
   "metadata": {},
   "outputs": [
    {
     "data": {
      "image/png": "[encoded data removed]",
      "text/plain": [
       "<Figure size 432x288 with 1 Axes>"
      ]
     },
     "metadata": {},
     "output_type": "display_data"
    }
   ],
   "source": [
    "# Plotting graph of day_of_week Vs Average ride length for different users\n",
    "plt.plot(user_avg_ride_len_day_of_week/pd.Timedelta(minutes=1))\n",
    "plt.plot(mem_avg_ride_len_day_of_week/pd.Timedelta(minutes=1))\n",
    "plt.plot(casual_avg_ride_len_day_of_week /pd.Timedelta(minutes=1))\n",
    "plt.title(\"The average ride_length for different users by day_of_week\")\n",
    "plt.legend([\"user\", \"member\", \"casual\"])\n",
    "labels = [\"Sunday\", \"Monday\", \"Tuesday\", \"Wednesday\", \"Thursday\", \"Friday\", \"Saturday\"]\n",
    "plt.xticks(user_avg_ride_len_day_of_week.index, labels)\n",
    "plt.show()"
   ]
  },
  {
   "cell_type": "code",
   "execution_count": 49,
   "id": "67783102",
   "metadata": {},
   "outputs": [
    {
     "data": {
      "text/html": [
       "<div>\n",
       "<style scoped>\n",
       "    .dataframe tbody tr th:only-of-type {\n",
       "        vertical-align: middle;\n",
       "    }\n",
       "\n",
       "    .dataframe tbody tr th {\n",
       "        vertical-align: top;\n",
       "    }\n",
       "\n",
       "    .dataframe thead th {\n",
       "        text-align: right;\n",
       "    }\n",
       "</style>\n",
       "<table border=\"1\" class=\"dataframe\">\n",
       "  <thead>\n",
       "    <tr style=\"text-align: right;\">\n",
       "      <th></th>\n",
       "      <th>Unnamed: 0.1</th>\n",
       "      <th>Unnamed: 0</th>\n",
       "      <th>ride_id</th>\n",
       "      <th>rideable_type</th>\n",
       "      <th>started_at</th>\n",
       "      <th>ended_at</th>\n",
       "      <th>start_station_name</th>\n",
       "      <th>start_station_id</th>\n",
       "      <th>end_station_name</th>\n",
       "      <th>end_station_id</th>\n",
       "      <th>...</th>\n",
       "      <th>end_lng</th>\n",
       "      <th>member_casual</th>\n",
       "      <th>start_at</th>\n",
       "      <th>end_at</th>\n",
       "      <th>ride_length</th>\n",
       "      <th>start_date1</th>\n",
       "      <th>day_of_week</th>\n",
       "      <th>year</th>\n",
       "      <th>month</th>\n",
       "      <th>ride_len</th>\n",
       "    </tr>\n",
       "  </thead>\n",
       "  <tbody>\n",
       "    <tr>\n",
       "      <th>0</th>\n",
       "      <td>74346</td>\n",
       "      <td>74346</td>\n",
       "      <td>5DB63F4E4EB6A9CF</td>\n",
       "      <td>docked_bike</td>\n",
       "      <td>01-04-20 0:00</td>\n",
       "      <td>01-04-20 0:23</td>\n",
       "      <td>Damen Ave &amp; Wellington Ave</td>\n",
       "      <td>162.0</td>\n",
       "      <td>Pine Grove Ave &amp; Waveland Ave</td>\n",
       "      <td>232.0</td>\n",
       "      <td>...</td>\n",
       "      <td>-87.6463</td>\n",
       "      <td>casual</td>\n",
       "      <td>2020-01-04 00:00:00</td>\n",
       "      <td>2020-01-04 00:23:00</td>\n",
       "      <td>0 days 00:23:00</td>\n",
       "      <td>2020-01-04</td>\n",
       "      <td>5</td>\n",
       "      <td>2020</td>\n",
       "      <td>1</td>\n",
       "      <td>0 days 00:23:00</td>\n",
       "    </tr>\n",
       "    <tr>\n",
       "      <th>1</th>\n",
       "      <td>17735</td>\n",
       "      <td>17735</td>\n",
       "      <td>6D93A270684EC452</td>\n",
       "      <td>docked_bike</td>\n",
       "      <td>01-04-20 0:02</td>\n",
       "      <td>01-04-20 0:24</td>\n",
       "      <td>Damen Ave &amp; Wellington Ave</td>\n",
       "      <td>162.0</td>\n",
       "      <td>Spaulding Ave &amp; Armitage Ave</td>\n",
       "      <td>506.0</td>\n",
       "      <td>...</td>\n",
       "      <td>-87.7102</td>\n",
       "      <td>casual</td>\n",
       "      <td>2020-01-04 00:02:00</td>\n",
       "      <td>2020-01-04 00:24:00</td>\n",
       "      <td>0 days 00:22:00</td>\n",
       "      <td>2020-01-04</td>\n",
       "      <td>5</td>\n",
       "      <td>2020</td>\n",
       "      <td>1</td>\n",
       "      <td>0 days 00:22:00</td>\n",
       "    </tr>\n",
       "    <tr>\n",
       "      <th>2</th>\n",
       "      <td>46139</td>\n",
       "      <td>46139</td>\n",
       "      <td>1FD159E93F7BAFA1</td>\n",
       "      <td>docked_bike</td>\n",
       "      <td>01-04-20 0:02</td>\n",
       "      <td>01-04-20 0:10</td>\n",
       "      <td>Wabash Ave &amp; 16th St</td>\n",
       "      <td>72.0</td>\n",
       "      <td>Wabash Ave &amp; 9th St</td>\n",
       "      <td>321.0</td>\n",
       "      <td>...</td>\n",
       "      <td>-87.6257</td>\n",
       "      <td>member</td>\n",
       "      <td>2020-01-04 00:02:00</td>\n",
       "      <td>2020-01-04 00:10:00</td>\n",
       "      <td>0 days 00:08:00</td>\n",
       "      <td>2020-01-04</td>\n",
       "      <td>5</td>\n",
       "      <td>2020</td>\n",
       "      <td>1</td>\n",
       "      <td>0 days 00:08:00</td>\n",
       "    </tr>\n",
       "    <tr>\n",
       "      <th>3</th>\n",
       "      <td>53075</td>\n",
       "      <td>53075</td>\n",
       "      <td>091D47E4F0FC5022</td>\n",
       "      <td>docked_bike</td>\n",
       "      <td>01-04-20 0:06</td>\n",
       "      <td>01-04-20 0:14</td>\n",
       "      <td>Mies van der Rohe Way &amp; Chicago Ave</td>\n",
       "      <td>173.0</td>\n",
       "      <td>Clark St &amp; Schiller St</td>\n",
       "      <td>301.0</td>\n",
       "      <td>...</td>\n",
       "      <td>-87.6315</td>\n",
       "      <td>member</td>\n",
       "      <td>2020-01-04 00:06:00</td>\n",
       "      <td>2020-01-04 00:14:00</td>\n",
       "      <td>0 days 00:08:00</td>\n",
       "      <td>2020-01-04</td>\n",
       "      <td>5</td>\n",
       "      <td>2020</td>\n",
       "      <td>1</td>\n",
       "      <td>0 days 00:08:00</td>\n",
       "    </tr>\n",
       "    <tr>\n",
       "      <th>4</th>\n",
       "      <td>46138</td>\n",
       "      <td>46138</td>\n",
       "      <td>07F785C9DDA3404C</td>\n",
       "      <td>docked_bike</td>\n",
       "      <td>01-04-20 0:11</td>\n",
       "      <td>01-04-20 0:11</td>\n",
       "      <td>Wabash Ave &amp; 9th St</td>\n",
       "      <td>321.0</td>\n",
       "      <td>Wabash Ave &amp; 9th St</td>\n",
       "      <td>321.0</td>\n",
       "      <td>...</td>\n",
       "      <td>-87.6257</td>\n",
       "      <td>member</td>\n",
       "      <td>2020-01-04 00:11:00</td>\n",
       "      <td>2020-01-04 00:11:00</td>\n",
       "      <td>0 days 00:00:00</td>\n",
       "      <td>2020-01-04</td>\n",
       "      <td>5</td>\n",
       "      <td>2020</td>\n",
       "      <td>1</td>\n",
       "      <td>0 days 00:00:00</td>\n",
       "    </tr>\n",
       "    <tr>\n",
       "      <th>...</th>\n",
       "      <td>...</td>\n",
       "      <td>...</td>\n",
       "      <td>...</td>\n",
       "      <td>...</td>\n",
       "      <td>...</td>\n",
       "      <td>...</td>\n",
       "      <td>...</td>\n",
       "      <td>...</td>\n",
       "      <td>...</td>\n",
       "      <td>...</td>\n",
       "      <td>...</td>\n",
       "      <td>...</td>\n",
       "      <td>...</td>\n",
       "      <td>...</td>\n",
       "      <td>...</td>\n",
       "      <td>...</td>\n",
       "      <td>...</td>\n",
       "      <td>...</td>\n",
       "      <td>...</td>\n",
       "      <td>...</td>\n",
       "      <td>...</td>\n",
       "    </tr>\n",
       "    <tr>\n",
       "      <th>3294686</th>\n",
       "      <td>70007</td>\n",
       "      <td>70007</td>\n",
       "      <td>FF13E71FC8997704</td>\n",
       "      <td>docked_bike</td>\n",
       "      <td>30-04-20 9:57</td>\n",
       "      <td>30-04-20 10:19</td>\n",
       "      <td>Damen Ave &amp; Thomas St (Augusta Blvd)</td>\n",
       "      <td>183.0</td>\n",
       "      <td>Sheffield Ave &amp; Kingsbury St</td>\n",
       "      <td>20.0</td>\n",
       "      <td>...</td>\n",
       "      <td>-87.6531</td>\n",
       "      <td>casual</td>\n",
       "      <td>2020-04-30 09:57:00</td>\n",
       "      <td>2020-04-30 10:19:00</td>\n",
       "      <td>0 days 00:22:00</td>\n",
       "      <td>2020-04-30</td>\n",
       "      <td>3</td>\n",
       "      <td>2020</td>\n",
       "      <td>4</td>\n",
       "      <td>0 days 00:22:00</td>\n",
       "    </tr>\n",
       "    <tr>\n",
       "      <th>3294687</th>\n",
       "      <td>16169</td>\n",
       "      <td>16169</td>\n",
       "      <td>9E3014D72E167A84</td>\n",
       "      <td>docked_bike</td>\n",
       "      <td>30-04-20 9:57</td>\n",
       "      <td>30-04-20 10:04</td>\n",
       "      <td>Noble St &amp; Milwaukee Ave</td>\n",
       "      <td>29.0</td>\n",
       "      <td>Damen Ave &amp; Pierce Ave</td>\n",
       "      <td>69.0</td>\n",
       "      <td>...</td>\n",
       "      <td>-87.6777</td>\n",
       "      <td>member</td>\n",
       "      <td>2020-04-30 09:57:00</td>\n",
       "      <td>2020-04-30 10:04:00</td>\n",
       "      <td>0 days 00:07:00</td>\n",
       "      <td>2020-04-30</td>\n",
       "      <td>3</td>\n",
       "      <td>2020</td>\n",
       "      <td>4</td>\n",
       "      <td>0 days 00:07:00</td>\n",
       "    </tr>\n",
       "    <tr>\n",
       "      <th>3294688</th>\n",
       "      <td>78243</td>\n",
       "      <td>78243</td>\n",
       "      <td>25AC1DC3D7FA9866</td>\n",
       "      <td>docked_bike</td>\n",
       "      <td>30-04-20 9:59</td>\n",
       "      <td>30-04-20 10:27</td>\n",
       "      <td>May St &amp; Cullerton St</td>\n",
       "      <td>171.0</td>\n",
       "      <td>May St &amp; Cullerton St</td>\n",
       "      <td>171.0</td>\n",
       "      <td>...</td>\n",
       "      <td>-87.6541</td>\n",
       "      <td>casual</td>\n",
       "      <td>2020-04-30 09:59:00</td>\n",
       "      <td>2020-04-30 10:27:00</td>\n",
       "      <td>0 days 00:28:00</td>\n",
       "      <td>2020-04-30</td>\n",
       "      <td>3</td>\n",
       "      <td>2020</td>\n",
       "      <td>4</td>\n",
       "      <td>0 days 00:28:00</td>\n",
       "    </tr>\n",
       "    <tr>\n",
       "      <th>3294689</th>\n",
       "      <td>273</td>\n",
       "      <td>273</td>\n",
       "      <td>70963C6718B9E7A7</td>\n",
       "      <td>docked_bike</td>\n",
       "      <td>30-04-20 9:59</td>\n",
       "      <td>30-04-20 10:03</td>\n",
       "      <td>Milwaukee Ave &amp; Grand Ave</td>\n",
       "      <td>84.0</td>\n",
       "      <td>Green St &amp; Randolph St</td>\n",
       "      <td>112.0</td>\n",
       "      <td>...</td>\n",
       "      <td>-87.6487</td>\n",
       "      <td>member</td>\n",
       "      <td>2020-04-30 09:59:00</td>\n",
       "      <td>2020-04-30 10:03:00</td>\n",
       "      <td>0 days 00:04:00</td>\n",
       "      <td>2020-04-30</td>\n",
       "      <td>3</td>\n",
       "      <td>2020</td>\n",
       "      <td>4</td>\n",
       "      <td>0 days 00:04:00</td>\n",
       "    </tr>\n",
       "    <tr>\n",
       "      <th>3294690</th>\n",
       "      <td>55991</td>\n",
       "      <td>55991</td>\n",
       "      <td>863E47DC4D198439</td>\n",
       "      <td>docked_bike</td>\n",
       "      <td>30-04-20 9:59</td>\n",
       "      <td>30-04-20 10:07</td>\n",
       "      <td>Halsted St &amp; Clybourn Ave</td>\n",
       "      <td>331.0</td>\n",
       "      <td>Orleans St &amp; Chestnut St (NEXT Apts)</td>\n",
       "      <td>620.0</td>\n",
       "      <td>...</td>\n",
       "      <td>-87.6375</td>\n",
       "      <td>member</td>\n",
       "      <td>2020-04-30 09:59:00</td>\n",
       "      <td>2020-04-30 10:07:00</td>\n",
       "      <td>0 days 00:08:00</td>\n",
       "      <td>2020-04-30</td>\n",
       "      <td>3</td>\n",
       "      <td>2020</td>\n",
       "      <td>4</td>\n",
       "      <td>0 days 00:08:00</td>\n",
       "    </tr>\n",
       "  </tbody>\n",
       "</table>\n",
       "<p>3294691 rows × 23 columns</p>\n",
       "</div>"
      ],
      "text/plain": [
       "         Unnamed: 0.1  Unnamed: 0           ride_id rideable_type  \\\n",
       "0               74346       74346  5DB63F4E4EB6A9CF   docked_bike   \n",
       "1               17735       17735  6D93A270684EC452   docked_bike   \n",
       "2               46139       46139  1FD159E93F7BAFA1   docked_bike   \n",
       "3               53075       53075  091D47E4F0FC5022   docked_bike   \n",
       "4               46138       46138  07F785C9DDA3404C   docked_bike   \n",
       "...               ...         ...               ...           ...   \n",
       "3294686         70007       70007  FF13E71FC8997704   docked_bike   \n",
       "3294687         16169       16169  9E3014D72E167A84   docked_bike   \n",
       "3294688         78243       78243  25AC1DC3D7FA9866   docked_bike   \n",
       "3294689           273         273  70963C6718B9E7A7   docked_bike   \n",
       "3294690         55991       55991  863E47DC4D198439   docked_bike   \n",
       "\n",
       "            started_at        ended_at                    start_station_name  \\\n",
       "0        01-04-20 0:00   01-04-20 0:23            Damen Ave & Wellington Ave   \n",
       "1        01-04-20 0:02   01-04-20 0:24            Damen Ave & Wellington Ave   \n",
       "2        01-04-20 0:02   01-04-20 0:10                  Wabash Ave & 16th St   \n",
       "3        01-04-20 0:06   01-04-20 0:14   Mies van der Rohe Way & Chicago Ave   \n",
       "4        01-04-20 0:11   01-04-20 0:11                   Wabash Ave & 9th St   \n",
       "...                ...             ...                                   ...   \n",
       "3294686  30-04-20 9:57  30-04-20 10:19  Damen Ave & Thomas St (Augusta Blvd)   \n",
       "3294687  30-04-20 9:57  30-04-20 10:04              Noble St & Milwaukee Ave   \n",
       "3294688  30-04-20 9:59  30-04-20 10:27                 May St & Cullerton St   \n",
       "3294689  30-04-20 9:59  30-04-20 10:03             Milwaukee Ave & Grand Ave   \n",
       "3294690  30-04-20 9:59  30-04-20 10:07             Halsted St & Clybourn Ave   \n",
       "\n",
       "        start_station_id                      end_station_name end_station_id  \\\n",
       "0                  162.0         Pine Grove Ave & Waveland Ave          232.0   \n",
       "1                  162.0          Spaulding Ave & Armitage Ave          506.0   \n",
       "2                   72.0                   Wabash Ave & 9th St          321.0   \n",
       "3                  173.0                Clark St & Schiller St          301.0   \n",
       "4                  321.0                   Wabash Ave & 9th St          321.0   \n",
       "...                  ...                                   ...            ...   \n",
       "3294686            183.0          Sheffield Ave & Kingsbury St           20.0   \n",
       "3294687             29.0                Damen Ave & Pierce Ave           69.0   \n",
       "3294688            171.0                 May St & Cullerton St          171.0   \n",
       "3294689             84.0                Green St & Randolph St          112.0   \n",
       "3294690            331.0  Orleans St & Chestnut St (NEXT Apts)          620.0   \n",
       "\n",
       "         ...  end_lng  member_casual             start_at  \\\n",
       "0        ... -87.6463         casual  2020-01-04 00:00:00   \n",
       "1        ... -87.7102         casual  2020-01-04 00:02:00   \n",
       "2        ... -87.6257         member  2020-01-04 00:02:00   \n",
       "3        ... -87.6315         member  2020-01-04 00:06:00   \n",
       "4        ... -87.6257         member  2020-01-04 00:11:00   \n",
       "...      ...      ...            ...                  ...   \n",
       "3294686  ... -87.6531         casual  2020-04-30 09:57:00   \n",
       "3294687  ... -87.6777         member  2020-04-30 09:57:00   \n",
       "3294688  ... -87.6541         casual  2020-04-30 09:59:00   \n",
       "3294689  ... -87.6487         member  2020-04-30 09:59:00   \n",
       "3294690  ... -87.6375         member  2020-04-30 09:59:00   \n",
       "\n",
       "                      end_at      ride_length start_date1 day_of_week  year  \\\n",
       "0        2020-01-04 00:23:00  0 days 00:23:00  2020-01-04           5  2020   \n",
       "1        2020-01-04 00:24:00  0 days 00:22:00  2020-01-04           5  2020   \n",
       "2        2020-01-04 00:10:00  0 days 00:08:00  2020-01-04           5  2020   \n",
       "3        2020-01-04 00:14:00  0 days 00:08:00  2020-01-04           5  2020   \n",
       "4        2020-01-04 00:11:00  0 days 00:00:00  2020-01-04           5  2020   \n",
       "...                      ...              ...         ...         ...   ...   \n",
       "3294686  2020-04-30 10:19:00  0 days 00:22:00  2020-04-30           3  2020   \n",
       "3294687  2020-04-30 10:04:00  0 days 00:07:00  2020-04-30           3  2020   \n",
       "3294688  2020-04-30 10:27:00  0 days 00:28:00  2020-04-30           3  2020   \n",
       "3294689  2020-04-30 10:03:00  0 days 00:04:00  2020-04-30           3  2020   \n",
       "3294690  2020-04-30 10:07:00  0 days 00:08:00  2020-04-30           3  2020   \n",
       "\n",
       "        month        ride_len  \n",
       "0           1 0 days 00:23:00  \n",
       "1           1 0 days 00:22:00  \n",
       "2           1 0 days 00:08:00  \n",
       "3           1 0 days 00:08:00  \n",
       "4           1 0 days 00:00:00  \n",
       "...       ...             ...  \n",
       "3294686     4 0 days 00:22:00  \n",
       "3294687     4 0 days 00:07:00  \n",
       "3294688     4 0 days 00:28:00  \n",
       "3294689     4 0 days 00:04:00  \n",
       "3294690     4 0 days 00:08:00  \n",
       "\n",
       "[3294691 rows x 23 columns]"
      ]
     },
     "execution_count": 49,
     "metadata": {},
     "output_type": "execute_result"
    }
   ],
   "source": [
    "cleaned_df"
   ]
  },
  {
   "cell_type": "code",
   "execution_count": 50,
   "id": "655a27c9",
   "metadata": {},
   "outputs": [],
   "source": [
    "# Extarcting imporatnt features from the cleaned file\n",
    "\n",
    "final_df = cleaned_df[[\"ride_id\", \"rideable_type\", \"ride_len\", \"day_of_week\", \"year\", \"month\", \"member_casual\"]]"
   ]
  },
  {
   "cell_type": "code",
   "execution_count": 51,
   "id": "b4170938",
   "metadata": {},
   "outputs": [
    {
     "name": "stdout",
     "output_type": "stream",
     "text": [
      "<class 'pandas.core.frame.DataFrame'>\n",
      "RangeIndex: 3294691 entries, 0 to 3294690\n",
      "Data columns (total 7 columns):\n",
      " #   Column         Dtype          \n",
      "---  ------         -----          \n",
      " 0   ride_id        object         \n",
      " 1   rideable_type  object         \n",
      " 2   ride_len       timedelta64[ns]\n",
      " 3   day_of_week    int64          \n",
      " 4   year           int64          \n",
      " 5   month          int64          \n",
      " 6   member_casual  object         \n",
      "dtypes: int64(3), object(3), timedelta64[ns](1)\n",
      "memory usage: 176.0+ MB\n"
     ]
    }
   ],
   "source": [
    "# Getting inforamtion about final file\n",
    "final_df.info()"
   ]
  },
  {
   "cell_type": "markdown",
   "id": "ea955943",
   "metadata": {},
   "source": [
    "# Data Analysis"
   ]
  },
  {
   "cell_type": "code",
   "execution_count": 52,
   "id": "da164918",
   "metadata": {},
   "outputs": [
    {
     "data": {
      "text/plain": [
       "member    1943452\n",
       "casual    1351239\n",
       "Name: member_casual, dtype: int64"
      ]
     },
     "execution_count": 52,
     "metadata": {},
     "output_type": "execute_result"
    }
   ],
   "source": [
    "# Checking the number of users in each type over past 12 months\n",
    "member_type = final_df[\"member_casual\"].value_counts()\n",
    "member_type"
   ]
  },
  {
   "cell_type": "code",
   "execution_count": 53,
   "id": "8d710b12",
   "metadata": {},
   "outputs": [
    {
     "data": {
      "image/png": "[encoded data removed]",
      "text/plain": [
       "<Figure size 432x288 with 1 Axes>"
      ]
     },
     "metadata": {},
     "output_type": "display_data"
    }
   ],
   "source": [
    "# Plotting number of users in each type\n",
    "plt.title(\"Number of users in each type\")\n",
    "plt.bar(member_type.index, member_type.values)\n",
    "plt.show()"
   ]
  },
  {
   "cell_type": "code",
   "execution_count": 54,
   "id": "a7247785",
   "metadata": {},
   "outputs": [
    {
     "data": {
      "image/png": "[encoded data removed]",
      "text/plain": [
       "<Figure size 576x432 with 1 Axes>"
      ]
     },
     "metadata": {},
     "output_type": "display_data"
    }
   ],
   "source": [
    "# Plotting the pie chart for number of users in each type\n",
    "plt.figure(figsize = (8,6))\n",
    "plt.pie(member_type.values, labels = member_type.index, autopct='%1.1f%%')\n",
    "plt.title(\"Percentage of users in each type\")\n",
    "plt.legend(member_type.index)\n",
    "plt.show()"
   ]
  },
  {
   "cell_type": "code",
   "execution_count": 55,
   "id": "72c0e3d3",
   "metadata": {},
   "outputs": [
    {
     "data": {
      "text/plain": [
       "year  member_casual\n",
       "2020  member           1710201\n",
       "      casual           1252294\n",
       "2021  member            233251\n",
       "      casual             98945\n",
       "Name: member_casual, dtype: int64"
      ]
     },
     "execution_count": 55,
     "metadata": {},
     "output_type": "execute_result"
    }
   ],
   "source": [
    "# Checking the number of users over years\n",
    "users_over_year = final_df.groupby('year')['member_casual'].value_counts()\n",
    "users_over_year"
   ]
  },
  {
   "cell_type": "code",
   "execution_count": 56,
   "id": "22e8a362",
   "metadata": {},
   "outputs": [],
   "source": [
    "# Segregating the number of users into member or casual riders over the years\n",
    "list_year = []\n",
    "list_x = []\n",
    "list_y = list(users_over_year.values)\n",
    "for i, j in users_over_year.index:\n",
    "  list_x.append(j)\n",
    "  list_year.append(str(i))"
   ]
  },
  {
   "cell_type": "code",
   "execution_count": 57,
   "id": "c6130976",
   "metadata": {},
   "outputs": [
    {
     "name": "stderr",
     "output_type": "stream",
     "text": [
      "C:\\ProgramData\\Anaconda3\\lib\\site-packages\\seaborn\\_decorators.py:36: FutureWarning: Pass the following variables as keyword args: x, y. From version 0.12, the only valid positional argument will be `data`, and passing other arguments without an explicit keyword will result in an error or misinterpretation.\n",
      "  warnings.warn(\n"
     ]
    },
    {
     "data": {
      "text/plain": [
       "Text(0.5, 1.0, 'Count of Member and Casual Riders over the years')"
      ]
     },
     "execution_count": 57,
     "metadata": {},
     "output_type": "execute_result"
    },
    {
     "data": {
      "image/png": "[encoded data removed]",
      "text/plain": [
       "<Figure size 432x288 with 1 Axes>"
      ]
     },
     "metadata": {},
     "output_type": "display_data"
    }
   ],
   "source": [
    "sns.barplot(list_x, list_y, hue = list_year)\n",
    "plt.title(\"Count of Member and Casual Riders over the years\")"
   ]
  },
  {
   "cell_type": "code",
   "execution_count": 58,
   "id": "4ca2e593",
   "metadata": {},
   "outputs": [
    {
     "data": {
      "text/plain": [
       "month  member_casual\n",
       "1      member            70714\n",
       "       casual            15088\n",
       "2      member            36443\n",
       "       casual             9159\n",
       "3      member           132616\n",
       "       casual            76603\n",
       "4      member            36601\n",
       "       casual            13985\n",
       "5      member           115172\n",
       "       casual            87668\n",
       "6      member           189962\n",
       "       casual           155000\n",
       "7      member           285063\n",
       "       casual           270543\n",
       "8      member           327268\n",
       "       casual           283603\n",
       "9      member           286652\n",
       "       casual           215708\n",
       "10     member           218548\n",
       "       casual           123475\n",
       "11     member           152707\n",
       "       casual            74537\n",
       "12     member            91706\n",
       "       casual            25870\n",
       "Name: member_casual, dtype: int64"
      ]
     },
     "execution_count": 58,
     "metadata": {},
     "output_type": "execute_result"
    }
   ],
   "source": [
    "# Checking the number of users over months\n",
    "users_over_month = final_df.groupby('month')['member_casual'].value_counts()\n",
    "users_over_month"
   ]
  },
  {
   "cell_type": "code",
   "execution_count": 59,
   "id": "d4d884f9",
   "metadata": {},
   "outputs": [],
   "source": [
    "# Segregating the number of users into member or casual riders over the months\n",
    "list_month = []\n",
    "list_x = []\n",
    "list_y = list(users_over_month.values)\n",
    "for i, j in users_over_month.index:\n",
    "  list_x.append(j)\n",
    "  list_month.append(str(i))"
   ]
  },
  {
   "cell_type": "code",
   "execution_count": 60,
   "id": "765dcb15",
   "metadata": {},
   "outputs": [
    {
     "name": "stderr",
     "output_type": "stream",
     "text": [
      "C:\\ProgramData\\Anaconda3\\lib\\site-packages\\seaborn\\_decorators.py:36: FutureWarning: Pass the following variables as keyword args: x, y. From version 0.12, the only valid positional argument will be `data`, and passing other arguments without an explicit keyword will result in an error or misinterpretation.\n",
      "  warnings.warn(\n"
     ]
    },
    {
     "data": {
      "text/plain": [
       "Text(0.5, 1.0, 'Number of Member and Casual Riders over the months')"
      ]
     },
     "execution_count": 60,
     "metadata": {},
     "output_type": "execute_result"
    },
    {
     "data": {
      "image/png": "[encoded data removed]",
      "text/plain": [
       "<Figure size 1296x576 with 1 Axes>"
      ]
     },
     "metadata": {},
     "output_type": "display_data"
    }
   ],
   "source": [
    "# Plotting count of Member and Casual Riders over the months\n",
    "plt.figure(figsize = (18,8))\n",
    "sns.barplot(list_x, list_y, hue = list_month)\n",
    "plt.title(\"Number of Member and Casual Riders over the months\")"
   ]
  },
  {
   "cell_type": "code",
   "execution_count": 61,
   "id": "c3505c9c",
   "metadata": {},
   "outputs": [
    {
     "data": {
      "text/plain": [
       "member_casual  rideable_type\n",
       "casual         docked_bike      1114616\n",
       "               electric_bike     166190\n",
       "               classic_bike       70433\n",
       "member         docked_bike      1439675\n",
       "               electric_bike     255596\n",
       "               classic_bike      248181\n",
       "Name: rideable_type, dtype: int64"
      ]
     },
     "execution_count": 61,
     "metadata": {},
     "output_type": "execute_result"
    }
   ],
   "source": [
    "# Checking the number of users for a particulat rideable_type\n",
    "ride_type = final_df.groupby(\"member_casual\")[\"rideable_type\"].value_counts()\n",
    "ride_type"
   ]
  },
  {
   "cell_type": "code",
   "execution_count": 62,
   "id": "fb8c9078",
   "metadata": {},
   "outputs": [],
   "source": [
    "# Segregating the number of users into member or casual riders based on ride type\n",
    "list_member = []\n",
    "list_x = []\n",
    "list_y = list(ride_type.values)\n",
    "for i, j in ride_type.index:\n",
    "  list_x.append(j)\n",
    "  list_member.append(str(i))"
   ]
  },
  {
   "cell_type": "code",
   "execution_count": 63,
   "id": "d1b717d7",
   "metadata": {},
   "outputs": [
    {
     "name": "stderr",
     "output_type": "stream",
     "text": [
      "C:\\ProgramData\\Anaconda3\\lib\\site-packages\\seaborn\\_decorators.py:36: FutureWarning: Pass the following variables as keyword args: x, y. From version 0.12, the only valid positional argument will be `data`, and passing other arguments without an explicit keyword will result in an error or misinterpretation.\n",
      "  warnings.warn(\n"
     ]
    },
    {
     "data": {
      "text/plain": [
       "Text(0.5, 1.0, 'Count of Member and Casual Riders over the type of bikes')"
      ]
     },
     "execution_count": 63,
     "metadata": {},
     "output_type": "execute_result"
    },
    {
     "data": {
      "image/png": "[encoded data removed]",
      "text/plain": [
       "<Figure size 1296x576 with 1 Axes>"
      ]
     },
     "metadata": {},
     "output_type": "display_data"
    }
   ],
   "source": [
    "# Plotting number of users into member or casual riders based on ride type\n",
    "plt.figure(figsize = (18,8))\n",
    "sns.barplot(list_x, list_y, hue = list_member)\n",
    "plt.title(\"Count of Member and Casual Riders over the type of bikes\")"
   ]
  },
  {
   "cell_type": "code",
   "execution_count": null,
   "id": "08a5ae4c",
   "metadata": {},
   "outputs": [],
   "source": []
  }
 ],
 "metadata": {
  "kernelspec": {
   "display_name": "Python 3 (ipykernel)",
   "language": "python",
   "name": "python3"
  },
  "language_info": {
   "codemirror_mode": {
    "name": "ipython",
    "version": 3
   },
   "file_extension": ".py",
   "mimetype": "text/x-python",
   "name": "python",
   "nbconvert_exporter": "python",
   "pygments_lexer": "ipython3",
   "version": "3.9.12"
  }
 },
 "nbformat": 4,
 "nbformat_minor": 5
}
